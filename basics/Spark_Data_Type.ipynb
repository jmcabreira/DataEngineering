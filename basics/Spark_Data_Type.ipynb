{
 "cells": [
  {
   "cell_type": "markdown",
   "metadata": {
    "application/vnd.databricks.v1+cell": {
     "cellMetadata": {},
     "inputWidgets": {},
     "nuid": "b89bbc4c-c280-4823-8933-743f05aac062",
     "showTitle": false,
     "tableResultSettingsMap": {},
     "title": ""
    }
   },
   "source": [
    "## Clube do Livro - Spark The definitive Guide\n",
    "### Episódio 5"
   ]
  },
  {
   "cell_type": "code",
   "execution_count": 0,
   "metadata": {
    "application/vnd.databricks.v1+cell": {
     "cellMetadata": {
      "byteLimit": 2048000,
      "rowLimit": 10000
     },
     "inputWidgets": {},
     "nuid": "51796ab1-20ce-415e-bff7-0de6844228ff",
     "showTitle": true,
     "tableResultSettingsMap": {},
     "title": "Create dataframe"
    }
   },
   "outputs": [
    {
     "output_type": "stream",
     "name": "stdout",
     "output_type": "stream",
     "text": [
      "root\n |-- InvoiceNo: string (nullable = true)\n |-- StockCode: string (nullable = true)\n |-- Description: string (nullable = true)\n |-- Quantity: integer (nullable = true)\n |-- InvoiceDate: timestamp (nullable = true)\n |-- UnitPrice: double (nullable = true)\n |-- CustomerID: double (nullable = true)\n |-- Country: string (nullable = true)\n\n"
     ]
    }
   ],
   "source": [
    "path = \"/databricks-datasets/definitive-guide/data/retail-data/by-day/2010-12-01.csv\"\n",
    "\n",
    "df = (\n",
    "    spark.read\n",
    "        .format('csv')\n",
    "        .option('header', 'true')\n",
    "        .option('inferSchema', 'true')\n",
    "        .load(path)\n",
    ")\n",
    "\n",
    "df.printSchema()"
   ]
  },
  {
   "cell_type": "code",
   "execution_count": 0,
   "metadata": {
    "application/vnd.databricks.v1+cell": {
     "cellMetadata": {
      "byteLimit": 2048000,
      "rowLimit": 10000
     },
     "inputWidgets": {},
     "nuid": "d16fcbae-7f51-493b-a225-7854e08e82e2",
     "showTitle": true,
     "tableResultSettingsMap": {},
     "title": "Convert to Spark"
    }
   },
   "outputs": [
    {
     "output_type": "display_data",
     "data": {
      "text/html": [
       "<style scoped>\n",
       "  .table-result-container {\n",
       "    max-height: 300px;\n",
       "    overflow: auto;\n",
       "  }\n",
       "  table, th, td {\n",
       "    border: 1px solid black;\n",
       "    border-collapse: collapse;\n",
       "  }\n",
       "  th, td {\n",
       "    padding: 5px;\n",
       "  }\n",
       "  th {\n",
       "    text-align: left;\n",
       "  }\n",
       "</style><div class='table-result-container'><table class='table-result'><thead style='background-color: white'><tr><th>id</th><th>Nome</th></tr></thead><tbody><tr><td>1</td><td>cabreira</td></tr></tbody></table></div>"
      ]
     },
     "metadata": {
      "application/vnd.databricks.v1+output": {
       "addedWidgets": {},
       "aggData": [],
       "aggError": "",
       "aggOverflow": false,
       "aggSchema": [],
       "aggSeriesLimitReached": false,
       "aggType": "",
       "arguments": {},
       "columnCustomDisplayInfos": {},
       "data": [
        [
         1,
         "cabreira"
        ]
       ],
       "datasetInfos": [],
       "dbfsResultPath": null,
       "isJsonSchema": true,
       "metadata": {},
       "overflow": false,
       "plotOptions": {
        "customPlotOptions": {},
        "displayType": "table",
        "pivotAggregation": null,
        "pivotColumns": null,
        "xColumns": null,
        "yColumns": null
       },
       "removedWidgets": [],
       "schema": [
        {
         "metadata": "{}",
         "name": "id",
         "type": "\"integer\""
        },
        {
         "metadata": "{}",
         "name": "Nome",
         "type": "\"string\""
        }
       ],
       "type": "table"
      }
     },
     "output_type": "display_data"
    }
   ],
   "source": [
    "from pyspark.sql.functions import lit, col\n",
    "\n",
    "df.select(\n",
    "        lit(1).alias('id'),\n",
    "        lit('cabreira').alias('Nome')\n",
    ").distinct().display()           \n",
    "\n"
   ]
  },
  {
   "cell_type": "code",
   "execution_count": 0,
   "metadata": {
    "application/vnd.databricks.v1+cell": {
     "cellMetadata": {
      "byteLimit": 2048000,
      "rowLimit": 10000
     },
     "inputWidgets": {},
     "nuid": "b591f91c-9ab3-46a4-ab5b-587d80fb3a8b",
     "showTitle": true,
     "tableResultSettingsMap": {},
     "title": "Booleans"
    }
   },
   "outputs": [
    {
     "output_type": "display_data",
     "data": {
      "text/html": [
       "<style scoped>\n",
       "  .table-result-container {\n",
       "    max-height: 300px;\n",
       "    overflow: auto;\n",
       "  }\n",
       "  table, th, td {\n",
       "    border: 1px solid black;\n",
       "    border-collapse: collapse;\n",
       "  }\n",
       "  th, td {\n",
       "    padding: 5px;\n",
       "  }\n",
       "  th {\n",
       "    text-align: left;\n",
       "  }\n",
       "</style><div class='table-result-container'><table class='table-result'><thead style='background-color: white'><tr><th>InvoiceNo</th><th>Description</th><th>UnitPrice</th></tr></thead><tbody><tr><td>536370</td><td>POSTAGE</td><td>18.0</td></tr><tr><td>536403</td><td>POSTAGE</td><td>15.0</td></tr><tr><td>536527</td><td>POSTAGE</td><td>18.0</td></tr><tr><td>536544</td><td>DOTCOM POSTAGE</td><td>569.77</td></tr><tr><td>536592</td><td>DOTCOM POSTAGE</td><td>607.49</td></tr></tbody></table></div>"
      ]
     },
     "metadata": {
      "application/vnd.databricks.v1+output": {
       "addedWidgets": {},
       "aggData": [],
       "aggError": "",
       "aggOverflow": false,
       "aggSchema": [],
       "aggSeriesLimitReached": false,
       "aggType": "",
       "arguments": {},
       "columnCustomDisplayInfos": {},
       "data": [
        [
         "536370",
         "POSTAGE",
         18.0
        ],
        [
         "536403",
         "POSTAGE",
         15.0
        ],
        [
         "536527",
         "POSTAGE",
         18.0
        ],
        [
         "536544",
         "DOTCOM POSTAGE",
         569.77
        ],
        [
         "536592",
         "DOTCOM POSTAGE",
         607.49
        ]
       ],
       "datasetInfos": [],
       "dbfsResultPath": null,
       "isJsonSchema": true,
       "metadata": {},
       "overflow": false,
       "plotOptions": {
        "customPlotOptions": {},
        "displayType": "table",
        "pivotAggregation": null,
        "pivotColumns": null,
        "xColumns": null,
        "yColumns": null
       },
       "removedWidgets": [],
       "schema": [
        {
         "metadata": "{}",
         "name": "InvoiceNo",
         "type": "\"string\""
        },
        {
         "metadata": "{}",
         "name": "Description",
         "type": "\"string\""
        },
        {
         "metadata": "{}",
         "name": "UnitPrice",
         "type": "\"double\""
        }
       ],
       "type": "table"
      }
     },
     "output_type": "display_data"
    }
   ],
   "source": [
    "from pyspark.sql.functions import col, instr \n",
    "\n",
    "#display(\n",
    "#    df.selectExpr('InvoiceNo', 'Description')\n",
    "#        .where(\"InvoiceNo = 536365\")\n",
    "#)\n",
    "\n",
    "priceFilter = col('UnitPrice') > '600'\n",
    "descriptionFilter = (\n",
    "    instr(col('Description'), \"POSTAGE\") >= 1\n",
    ")\n",
    "\n",
    "display(\n",
    "    df.selectExpr(\n",
    "        'InvoiceNo',\n",
    "        'Description',\n",
    "        'UnitPrice'\n",
    "    )\n",
    "    .where(priceFilter | descriptionFilter)\n",
    ")\n",
    "\n",
    "\n",
    "\n"
   ]
  },
  {
   "cell_type": "code",
   "execution_count": 0,
   "metadata": {
    "application/vnd.databricks.v1+cell": {
     "cellMetadata": {
      "byteLimit": 2048000,
      "rowLimit": 10000
     },
     "inputWidgets": {},
     "nuid": "21564b56-dc8d-4b8c-b9fa-581bde241bc5",
     "showTitle": true,
     "tableResultSettingsMap": {},
     "title": "df.describe()"
    }
   },
   "outputs": [
    {
     "output_type": "display_data",
     "data": {
      "text/html": [
       "<style scoped>\n",
       "  .table-result-container {\n",
       "    max-height: 300px;\n",
       "    overflow: auto;\n",
       "  }\n",
       "  table, th, td {\n",
       "    border: 1px solid black;\n",
       "    border-collapse: collapse;\n",
       "  }\n",
       "  th, td {\n",
       "    padding: 5px;\n",
       "  }\n",
       "  th {\n",
       "    text-align: left;\n",
       "  }\n",
       "</style><div class='table-result-container'><table class='table-result'><thead style='background-color: white'><tr><th>summary</th><th>InvoiceNo</th><th>StockCode</th><th>Description</th><th>Quantity</th><th>UnitPrice</th><th>CustomerID</th><th>Country</th></tr></thead><tbody><tr><td>count</td><td>3108</td><td>3108</td><td>3098</td><td>3108</td><td>3108</td><td>1968</td><td>3108</td></tr><tr><td>mean</td><td>536516.684944841</td><td>27834.304044117645</td><td>null</td><td>8.627413127413128</td><td>4.151946589446603</td><td>15661.388719512195</td><td>null</td></tr><tr><td>stddev</td><td>72.89447869788873</td><td>17407.897548583845</td><td>null</td><td>26.371821677029203</td><td>15.638659854603892</td><td>1854.4496996893627</td><td>null</td></tr><tr><td>min</td><td>536365</td><td>10002</td><td> 4 PURPLE FLOCK DINNER CANDLES</td><td>-24</td><td>0.0</td><td>12431.0</td><td>Australia</td></tr><tr><td>max</td><td>C536548</td><td>POST</td><td>ZINC WILLIE WINKIE  CANDLE STICK</td><td>600</td><td>607.49</td><td>18229.0</td><td>United Kingdom</td></tr></tbody></table></div>"
      ]
     },
     "metadata": {
      "application/vnd.databricks.v1+output": {
       "addedWidgets": {},
       "aggData": [],
       "aggError": "",
       "aggOverflow": false,
       "aggSchema": [],
       "aggSeriesLimitReached": false,
       "aggType": "",
       "arguments": {},
       "columnCustomDisplayInfos": {},
       "data": [
        [
         "count",
         "3108",
         "3108",
         "3098",
         "3108",
         "3108",
         "1968",
         "3108"
        ],
        [
         "mean",
         "536516.684944841",
         "27834.304044117645",
         null,
         "8.627413127413128",
         "4.151946589446603",
         "15661.388719512195",
         null
        ],
        [
         "stddev",
         "72.89447869788873",
         "17407.897548583845",
         null,
         "26.371821677029203",
         "15.638659854603892",
         "1854.4496996893627",
         null
        ],
        [
         "min",
         "536365",
         "10002",
         " 4 PURPLE FLOCK DINNER CANDLES",
         "-24",
         "0.0",
         "12431.0",
         "Australia"
        ],
        [
         "max",
         "C536548",
         "POST",
         "ZINC WILLIE WINKIE  CANDLE STICK",
         "600",
         "607.49",
         "18229.0",
         "United Kingdom"
        ]
       ],
       "datasetInfos": [],
       "dbfsResultPath": null,
       "isJsonSchema": true,
       "metadata": {},
       "overflow": false,
       "plotOptions": {
        "customPlotOptions": {},
        "displayType": "table",
        "pivotAggregation": null,
        "pivotColumns": null,
        "xColumns": null,
        "yColumns": null
       },
       "removedWidgets": [],
       "schema": [
        {
         "metadata": "{}",
         "name": "summary",
         "type": "\"string\""
        },
        {
         "metadata": "{}",
         "name": "InvoiceNo",
         "type": "\"string\""
        },
        {
         "metadata": "{}",
         "name": "StockCode",
         "type": "\"string\""
        },
        {
         "metadata": "{}",
         "name": "Description",
         "type": "\"string\""
        },
        {
         "metadata": "{}",
         "name": "Quantity",
         "type": "\"string\""
        },
        {
         "metadata": "{}",
         "name": "UnitPrice",
         "type": "\"string\""
        },
        {
         "metadata": "{}",
         "name": "CustomerID",
         "type": "\"string\""
        },
        {
         "metadata": "{}",
         "name": "Country",
         "type": "\"string\""
        }
       ],
       "type": "table"
      }
     },
     "output_type": "display_data"
    }
   ],
   "source": [
    "display(df.describe())"
   ]
  },
  {
   "cell_type": "code",
   "execution_count": 0,
   "metadata": {
    "application/vnd.databricks.v1+cell": {
     "cellMetadata": {
      "byteLimit": 2048000,
      "rowLimit": 10000
     },
     "inputWidgets": {},
     "nuid": "95e342d8-5ede-41ab-84e7-b505bbd34432",
     "showTitle": true,
     "tableResultSettingsMap": {},
     "title": "generate ids"
    }
   },
   "outputs": [
    {
     "output_type": "display_data",
     "data": {
      "text/html": [
       "<style scoped>\n",
       "  .table-result-container {\n",
       "    max-height: 300px;\n",
       "    overflow: auto;\n",
       "  }\n",
       "  table, th, td {\n",
       "    border: 1px solid black;\n",
       "    border-collapse: collapse;\n",
       "  }\n",
       "  th, td {\n",
       "    padding: 5px;\n",
       "  }\n",
       "  th {\n",
       "    text-align: left;\n",
       "  }\n",
       "</style><div class='table-result-container'><table class='table-result'><thead style='background-color: white'><tr><th>id</th><th>InvoiceNo</th></tr></thead><tbody><tr><td>0</td><td>536365</td></tr><tr><td>1</td><td>536365</td></tr><tr><td>2</td><td>536365</td></tr><tr><td>3</td><td>536365</td></tr><tr><td>4</td><td>536365</td></tr><tr><td>5</td><td>536365</td></tr><tr><td>6</td><td>536365</td></tr><tr><td>7</td><td>536366</td></tr><tr><td>8</td><td>536366</td></tr><tr><td>9</td><td>536367</td></tr></tbody></table></div>"
      ]
     },
     "metadata": {
      "application/vnd.databricks.v1+output": {
       "addedWidgets": {},
       "aggData": [],
       "aggError": "",
       "aggOverflow": false,
       "aggSchema": [],
       "aggSeriesLimitReached": false,
       "aggType": "",
       "arguments": {},
       "columnCustomDisplayInfos": {},
       "data": [
        [
         0,
         "536365"
        ],
        [
         1,
         "536365"
        ],
        [
         2,
         "536365"
        ],
        [
         3,
         "536365"
        ],
        [
         4,
         "536365"
        ],
        [
         5,
         "536365"
        ],
        [
         6,
         "536365"
        ],
        [
         7,
         "536366"
        ],
        [
         8,
         "536366"
        ],
        [
         9,
         "536367"
        ]
       ],
       "datasetInfos": [],
       "dbfsResultPath": null,
       "isJsonSchema": true,
       "metadata": {},
       "overflow": false,
       "plotOptions": {
        "customPlotOptions": {},
        "displayType": "table",
        "pivotAggregation": null,
        "pivotColumns": null,
        "xColumns": null,
        "yColumns": null
       },
       "removedWidgets": [],
       "schema": [
        {
         "metadata": "{}",
         "name": "id",
         "type": "\"long\""
        },
        {
         "metadata": "{}",
         "name": "InvoiceNo",
         "type": "\"string\""
        }
       ],
       "type": "table"
      }
     },
     "output_type": "display_data"
    }
   ],
   "source": [
    "from pyspark.sql.functions import monotonically_increasing_id\n",
    "\n",
    "display(\n",
    "    df.withColumn(\n",
    "        'id',\n",
    "        monotonically_increasing_id()\n",
    "    ).select('id', 'InvoiceNo')\n",
    "    .limit(10)\n",
    "    )"
   ]
  },
  {
   "cell_type": "code",
   "execution_count": 0,
   "metadata": {
    "application/vnd.databricks.v1+cell": {
     "cellMetadata": {
      "byteLimit": 2048000,
      "rowLimit": 10000
     },
     "inputWidgets": {},
     "nuid": "4b771865-de5f-4dc9-8f43-699dd1d93168",
     "showTitle": true,
     "tableResultSettingsMap": {},
     "title": "string basis"
    }
   },
   "outputs": [
    {
     "output_type": "display_data",
     "data": {
      "text/html": [
       "<style scoped>\n",
       "  .table-result-container {\n",
       "    max-height: 300px;\n",
       "    overflow: auto;\n",
       "  }\n",
       "  table, th, td {\n",
       "    border: 1px solid black;\n",
       "    border-collapse: collapse;\n",
       "  }\n",
       "  th, td {\n",
       "    padding: 5px;\n",
       "  }\n",
       "  th {\n",
       "    text-align: left;\n",
       "  }\n",
       "</style><div class='table-result-container'><table class='table-result'><thead style='background-color: white'><tr><th>Description</th><th>newCol</th><th>ltrim</th><th>rtrim</th><th>trim</th></tr></thead><tbody><tr><td>WHITE HANGING HEART T-LIGHT HOLDER</td><td>White Hanging Heart T-light Holder</td><td>LTRIM.  </td><td>.    RTRIM.</td><td>.    TRIM.</td></tr><tr><td>WHITE METAL LANTERN</td><td>White Metal Lantern</td><td>LTRIM.  </td><td>.    RTRIM.</td><td>.    TRIM.</td></tr><tr><td>CREAM CUPID HEARTS COAT HANGER</td><td>Cream Cupid Hearts Coat Hanger</td><td>LTRIM.  </td><td>.    RTRIM.</td><td>.    TRIM.</td></tr><tr><td>KNITTED UNION FLAG HOT WATER BOTTLE</td><td>Knitted Union Flag Hot Water Bottle</td><td>LTRIM.  </td><td>.    RTRIM.</td><td>.    TRIM.</td></tr><tr><td>RED WOOLLY HOTTIE WHITE HEART.</td><td>Red Woolly Hottie White Heart.</td><td>LTRIM.  </td><td>.    RTRIM.</td><td>.    TRIM.</td></tr><tr><td>SET 7 BABUSHKA NESTING BOXES</td><td>Set 7 Babushka Nesting Boxes</td><td>LTRIM.  </td><td>.    RTRIM.</td><td>.    TRIM.</td></tr><tr><td>GLASS STAR FROSTED T-LIGHT HOLDER</td><td>Glass Star Frosted T-light Holder</td><td>LTRIM.  </td><td>.    RTRIM.</td><td>.    TRIM.</td></tr></tbody></table></div>"
      ]
     },
     "metadata": {
      "application/vnd.databricks.v1+output": {
       "addedWidgets": {},
       "aggData": [],
       "aggError": "",
       "aggOverflow": false,
       "aggSchema": [],
       "aggSeriesLimitReached": false,
       "aggType": "",
       "arguments": {},
       "columnCustomDisplayInfos": {},
       "data": [
        [
         "WHITE HANGING HEART T-LIGHT HOLDER",
         "White Hanging Heart T-light Holder",
         "LTRIM.  ",
         ".    RTRIM.",
         ".    TRIM."
        ],
        [
         "WHITE METAL LANTERN",
         "White Metal Lantern",
         "LTRIM.  ",
         ".    RTRIM.",
         ".    TRIM."
        ],
        [
         "CREAM CUPID HEARTS COAT HANGER",
         "Cream Cupid Hearts Coat Hanger",
         "LTRIM.  ",
         ".    RTRIM.",
         ".    TRIM."
        ],
        [
         "KNITTED UNION FLAG HOT WATER BOTTLE",
         "Knitted Union Flag Hot Water Bottle",
         "LTRIM.  ",
         ".    RTRIM.",
         ".    TRIM."
        ],
        [
         "RED WOOLLY HOTTIE WHITE HEART.",
         "Red Woolly Hottie White Heart.",
         "LTRIM.  ",
         ".    RTRIM.",
         ".    TRIM."
        ],
        [
         "SET 7 BABUSHKA NESTING BOXES",
         "Set 7 Babushka Nesting Boxes",
         "LTRIM.  ",
         ".    RTRIM.",
         ".    TRIM."
        ],
        [
         "GLASS STAR FROSTED T-LIGHT HOLDER",
         "Glass Star Frosted T-light Holder",
         "LTRIM.  ",
         ".    RTRIM.",
         ".    TRIM."
        ]
       ],
       "datasetInfos": [],
       "dbfsResultPath": null,
       "isJsonSchema": true,
       "metadata": {},
       "overflow": false,
       "plotOptions": {
        "customPlotOptions": {},
        "displayType": "table",
        "pivotAggregation": null,
        "pivotColumns": null,
        "xColumns": null,
        "yColumns": null
       },
       "removedWidgets": [],
       "schema": [
        {
         "metadata": "{}",
         "name": "Description",
         "type": "\"string\""
        },
        {
         "metadata": "{}",
         "name": "newCol",
         "type": "\"string\""
        },
        {
         "metadata": "{}",
         "name": "ltrim",
         "type": "\"string\""
        },
        {
         "metadata": "{}",
         "name": "rtrim",
         "type": "\"string\""
        },
        {
         "metadata": "{}",
         "name": "trim",
         "type": "\"string\""
        }
       ],
       "type": "table"
      }
     },
     "output_type": "display_data"
    }
   ],
   "source": [
    "display(\n",
    "    df.selectExpr(\n",
    "        'Description',\n",
    "        'initCap(Description) AS newCol',\n",
    "        'ltrim(\"  LTRIM.  \") AS ltrim',\n",
    "        'rtrim(\".    RTRIM.   \") AS rtrim',\n",
    "        'trim(\".    TRIM.    \") AS trim'\n",
    "    ).where(\"InvoiceNo = 536365\")\n",
    "\n",
    ")"
   ]
  },
  {
   "cell_type": "code",
   "execution_count": 0,
   "metadata": {
    "application/vnd.databricks.v1+cell": {
     "cellMetadata": {
      "byteLimit": 2048000,
      "rowLimit": 10000
     },
     "inputWidgets": {},
     "nuid": "8930af49-9b45-4242-8ca3-2db3cf2a3df6",
     "showTitle": true,
     "tableResultSettingsMap": {},
     "title": "regular expr"
    }
   },
   "outputs": [
    {
     "output_type": "display_data",
     "data": {
      "text/html": [
       "<style scoped>\n",
       "  .table-result-container {\n",
       "    max-height: 300px;\n",
       "    overflow: auto;\n",
       "  }\n",
       "  table, th, td {\n",
       "    border: 1px solid black;\n",
       "    border-collapse: collapse;\n",
       "  }\n",
       "  th, td {\n",
       "    padding: 5px;\n",
       "  }\n",
       "  th {\n",
       "    text-align: left;\n",
       "  }\n",
       "</style><div class='table-result-container'><table class='table-result'><thead style='background-color: white'><tr><th>Description</th><th>newDescription</th></tr></thead><tbody><tr><td>WHITE HANGING HEART T-LIGHT HOLDER</td><td>WHITE</td></tr><tr><td>WHITE METAL LANTERN</td><td>WHITE</td></tr><tr><td>CREAM CUPID HEARTS COAT HANGER</td><td></td></tr><tr><td>KNITTED UNION FLAG HOT WATER BOTTLE</td><td></td></tr><tr><td>RED WOOLLY HOTTIE WHITE HEART.</td><td>RED</td></tr><tr><td>SET 7 BABUSHKA NESTING BOXES</td><td></td></tr><tr><td>GLASS STAR FROSTED T-LIGHT HOLDER</td><td></td></tr></tbody></table></div>"
      ]
     },
     "metadata": {
      "application/vnd.databricks.v1+output": {
       "addedWidgets": {},
       "aggData": [],
       "aggError": "",
       "aggOverflow": false,
       "aggSchema": [],
       "aggSeriesLimitReached": false,
       "aggType": "",
       "arguments": {},
       "columnCustomDisplayInfos": {},
       "data": [
        [
         "WHITE HANGING HEART T-LIGHT HOLDER",
         "WHITE"
        ],
        [
         "WHITE METAL LANTERN",
         "WHITE"
        ],
        [
         "CREAM CUPID HEARTS COAT HANGER",
         ""
        ],
        [
         "KNITTED UNION FLAG HOT WATER BOTTLE",
         ""
        ],
        [
         "RED WOOLLY HOTTIE WHITE HEART.",
         "RED"
        ],
        [
         "SET 7 BABUSHKA NESTING BOXES",
         ""
        ],
        [
         "GLASS STAR FROSTED T-LIGHT HOLDER",
         ""
        ]
       ],
       "datasetInfos": [],
       "dbfsResultPath": null,
       "isJsonSchema": true,
       "metadata": {},
       "overflow": false,
       "plotOptions": {
        "customPlotOptions": {},
        "displayType": "table",
        "pivotAggregation": null,
        "pivotColumns": null,
        "xColumns": null,
        "yColumns": null
       },
       "removedWidgets": [],
       "schema": [
        {
         "metadata": "{}",
         "name": "Description",
         "type": "\"string\""
        },
        {
         "metadata": "{}",
         "name": "newDescription",
         "type": "\"string\""
        }
       ],
       "type": "table"
      }
     },
     "output_type": "display_data"
    }
   ],
   "source": [
    "#display(\n",
    "#    df.selectExpr(\n",
    "#        \"Description\",\n",
    "#        \"\"\"\n",
    "#        regexp_replace(\n",
    "#            Description,\n",
    "#            'BLACK|WHITE|RED',\n",
    "#            'COLOR'\n",
    "#        ) AS newDescription\"\"\"\n",
    "#    )\n",
    "#    .where(\"InvoiceNo = 536365\")\n",
    "#)\n",
    "\n",
    "\n",
    "#display(\n",
    "#    df.selectExpr(\n",
    "#        \"Description\",\n",
    "#        \"\"\"translate(\n",
    "#            Description,\n",
    "#            'LEET',\n",
    "#            '1337'\n",
    "#        ) AS newDescription\"\"\"\n",
    "#    ).where( \"invoiceNo = 536365\")\n",
    "#)\n",
    "\n",
    "#display(\n",
    "#    df.selectExpr(\n",
    "#        \"Description\",\n",
    "#        \"\"\"translate(\n",
    "#            Description,\n",
    "#            'LEET',\n",
    "#            '1337'\n",
    "#        ) AS newDescription\"\"\"\n",
    "#    ).where( \"invoiceNo = 536365\")\n",
    "#)\n",
    "\n",
    "display(\n",
    "    df.selectExpr(\n",
    "        \"Description\",\n",
    "        \"\"\"regexp_extract(\n",
    "            Description,\n",
    "            '(BLACK|WHITE|RED)'\n",
    "        ) AS newDescription\"\"\"\n",
    "    ).where( \"invoiceNo = 536365\")\n",
    ")\n"
   ]
  },
  {
   "cell_type": "code",
   "execution_count": 0,
   "metadata": {
    "application/vnd.databricks.v1+cell": {
     "cellMetadata": {
      "byteLimit": 2048000,
      "rowLimit": 10000
     },
     "inputWidgets": {},
     "nuid": "e7451b42-7c0a-4d0d-8785-3c6718135da4",
     "showTitle": true,
     "tableResultSettingsMap": {},
     "title": "timestamp"
    }
   },
   "outputs": [
    {
     "output_type": "display_data",
     "data": {
      "text/html": [
       "<style scoped>\n",
       "  .table-result-container {\n",
       "    max-height: 300px;\n",
       "    overflow: auto;\n",
       "  }\n",
       "  table, th, td {\n",
       "    border: 1px solid black;\n",
       "    border-collapse: collapse;\n",
       "  }\n",
       "  th, td {\n",
       "    padding: 5px;\n",
       "  }\n",
       "  th {\n",
       "    text-align: left;\n",
       "  }\n",
       "</style><div class='table-result-container'><table class='table-result'><thead style='background-color: white'><tr><th>id</th><th>today</th><th>now</th></tr></thead><tbody><tr><td>0</td><td>2024-12-14</td><td>2024-12-14T19:10:03.504Z</td></tr><tr><td>1</td><td>2024-12-14</td><td>2024-12-14T19:10:03.504Z</td></tr><tr><td>2</td><td>2024-12-14</td><td>2024-12-14T19:10:03.504Z</td></tr><tr><td>3</td><td>2024-12-14</td><td>2024-12-14T19:10:03.504Z</td></tr><tr><td>4</td><td>2024-12-14</td><td>2024-12-14T19:10:03.504Z</td></tr><tr><td>5</td><td>2024-12-14</td><td>2024-12-14T19:10:03.504Z</td></tr><tr><td>6</td><td>2024-12-14</td><td>2024-12-14T19:10:03.504Z</td></tr><tr><td>7</td><td>2024-12-14</td><td>2024-12-14T19:10:03.504Z</td></tr><tr><td>8</td><td>2024-12-14</td><td>2024-12-14T19:10:03.504Z</td></tr><tr><td>9</td><td>2024-12-14</td><td>2024-12-14T19:10:03.504Z</td></tr></tbody></table></div>"
      ]
     },
     "metadata": {
      "application/vnd.databricks.v1+output": {
       "addedWidgets": {},
       "aggData": [],
       "aggError": "",
       "aggOverflow": false,
       "aggSchema": [],
       "aggSeriesLimitReached": false,
       "aggType": "",
       "arguments": {},
       "columnCustomDisplayInfos": {},
       "data": [
        [
         0,
         "2024-12-14",
         "2024-12-14T19:10:03.504Z"
        ],
        [
         1,
         "2024-12-14",
         "2024-12-14T19:10:03.504Z"
        ],
        [
         2,
         "2024-12-14",
         "2024-12-14T19:10:03.504Z"
        ],
        [
         3,
         "2024-12-14",
         "2024-12-14T19:10:03.504Z"
        ],
        [
         4,
         "2024-12-14",
         "2024-12-14T19:10:03.504Z"
        ],
        [
         5,
         "2024-12-14",
         "2024-12-14T19:10:03.504Z"
        ],
        [
         6,
         "2024-12-14",
         "2024-12-14T19:10:03.504Z"
        ],
        [
         7,
         "2024-12-14",
         "2024-12-14T19:10:03.504Z"
        ],
        [
         8,
         "2024-12-14",
         "2024-12-14T19:10:03.504Z"
        ],
        [
         9,
         "2024-12-14",
         "2024-12-14T19:10:03.504Z"
        ]
       ],
       "datasetInfos": [],
       "dbfsResultPath": null,
       "isJsonSchema": true,
       "metadata": {},
       "overflow": false,
       "plotOptions": {
        "customPlotOptions": {},
        "displayType": "table",
        "pivotAggregation": null,
        "pivotColumns": null,
        "xColumns": null,
        "yColumns": null
       },
       "removedWidgets": [],
       "schema": [
        {
         "metadata": "{}",
         "name": "id",
         "type": "\"long\""
        },
        {
         "metadata": "{}",
         "name": "today",
         "type": "\"date\""
        },
        {
         "metadata": "{}",
         "name": "now",
         "type": "\"timestamp\""
        }
       ],
       "type": "table"
      }
     },
     "output_type": "display_data"
    }
   ],
   "source": [
    "from pyspark.sql.functions import current_date, current_timestamp\n",
    "\n",
    "dateDF = ( \n",
    "    spark.range(10)\n",
    "    .withColumn(\n",
    "        'today',\n",
    "        current_date()\n",
    "    )\n",
    "    .withColumn(\n",
    "        'now',\n",
    "        current_timestamp()\n",
    "\n",
    "    )\n",
    ")\n",
    "\n",
    "display(dateDF)"
   ]
  },
  {
   "cell_type": "code",
   "execution_count": 0,
   "metadata": {
    "application/vnd.databricks.v1+cell": {
     "cellMetadata": {
      "byteLimit": 2048000,
      "rowLimit": 10000
     },
     "inputWidgets": {},
     "nuid": "ed80344c-9f8b-427c-a62f-2e97cd1096fc",
     "showTitle": true,
     "tableResultSettingsMap": {},
     "title": "datetime functions"
    }
   },
   "outputs": [
    {
     "output_type": "display_data",
     "data": {
      "text/html": [
       "<style scoped>\n",
       "  .table-result-container {\n",
       "    max-height: 300px;\n",
       "    overflow: auto;\n",
       "  }\n",
       "  table, th, td {\n",
       "    border: 1px solid black;\n",
       "    border-collapse: collapse;\n",
       "  }\n",
       "  th, td {\n",
       "    padding: 5px;\n",
       "  }\n",
       "  th {\n",
       "    text-align: left;\n",
       "  }\n",
       "</style><div class='table-result-container'><table class='table-result'><thead style='background-color: white'><tr><th>date_sub</th><th>date_add</th><th>date_diff</th><th>months_between</th><th>castWithFormat</th><th>timestamp</th></tr></thead><tbody><tr><td>2024-12-09</td><td>2024-12-19</td><td>5</td><td>12.0</td><td>2024-12-11</td><td>2024-12-11T00:00:00Z</td></tr><tr><td>2024-12-09</td><td>2024-12-19</td><td>5</td><td>12.0</td><td>2024-12-11</td><td>2024-12-11T00:00:00Z</td></tr><tr><td>2024-12-09</td><td>2024-12-19</td><td>5</td><td>12.0</td><td>2024-12-11</td><td>2024-12-11T00:00:00Z</td></tr><tr><td>2024-12-09</td><td>2024-12-19</td><td>5</td><td>12.0</td><td>2024-12-11</td><td>2024-12-11T00:00:00Z</td></tr><tr><td>2024-12-09</td><td>2024-12-19</td><td>5</td><td>12.0</td><td>2024-12-11</td><td>2024-12-11T00:00:00Z</td></tr><tr><td>2024-12-09</td><td>2024-12-19</td><td>5</td><td>12.0</td><td>2024-12-11</td><td>2024-12-11T00:00:00Z</td></tr><tr><td>2024-12-09</td><td>2024-12-19</td><td>5</td><td>12.0</td><td>2024-12-11</td><td>2024-12-11T00:00:00Z</td></tr><tr><td>2024-12-09</td><td>2024-12-19</td><td>5</td><td>12.0</td><td>2024-12-11</td><td>2024-12-11T00:00:00Z</td></tr><tr><td>2024-12-09</td><td>2024-12-19</td><td>5</td><td>12.0</td><td>2024-12-11</td><td>2024-12-11T00:00:00Z</td></tr><tr><td>2024-12-09</td><td>2024-12-19</td><td>5</td><td>12.0</td><td>2024-12-11</td><td>2024-12-11T00:00:00Z</td></tr></tbody></table></div>"
      ]
     },
     "metadata": {
      "application/vnd.databricks.v1+output": {
       "addedWidgets": {},
       "aggData": [],
       "aggError": "",
       "aggOverflow": false,
       "aggSchema": [],
       "aggSeriesLimitReached": false,
       "aggType": "",
       "arguments": {},
       "columnCustomDisplayInfos": {},
       "data": [
        [
         "2024-12-09",
         "2024-12-19",
         5,
         12.0,
         "2024-12-11",
         "2024-12-11T00:00:00Z"
        ],
        [
         "2024-12-09",
         "2024-12-19",
         5,
         12.0,
         "2024-12-11",
         "2024-12-11T00:00:00Z"
        ],
        [
         "2024-12-09",
         "2024-12-19",
         5,
         12.0,
         "2024-12-11",
         "2024-12-11T00:00:00Z"
        ],
        [
         "2024-12-09",
         "2024-12-19",
         5,
         12.0,
         "2024-12-11",
         "2024-12-11T00:00:00Z"
        ],
        [
         "2024-12-09",
         "2024-12-19",
         5,
         12.0,
         "2024-12-11",
         "2024-12-11T00:00:00Z"
        ],
        [
         "2024-12-09",
         "2024-12-19",
         5,
         12.0,
         "2024-12-11",
         "2024-12-11T00:00:00Z"
        ],
        [
         "2024-12-09",
         "2024-12-19",
         5,
         12.0,
         "2024-12-11",
         "2024-12-11T00:00:00Z"
        ],
        [
         "2024-12-09",
         "2024-12-19",
         5,
         12.0,
         "2024-12-11",
         "2024-12-11T00:00:00Z"
        ],
        [
         "2024-12-09",
         "2024-12-19",
         5,
         12.0,
         "2024-12-11",
         "2024-12-11T00:00:00Z"
        ],
        [
         "2024-12-09",
         "2024-12-19",
         5,
         12.0,
         "2024-12-11",
         "2024-12-11T00:00:00Z"
        ]
       ],
       "datasetInfos": [],
       "dbfsResultPath": null,
       "isJsonSchema": true,
       "metadata": {},
       "overflow": false,
       "plotOptions": {
        "customPlotOptions": {},
        "displayType": "table",
        "pivotAggregation": null,
        "pivotColumns": null,
        "xColumns": null,
        "yColumns": null
       },
       "removedWidgets": [],
       "schema": [
        {
         "metadata": "{}",
         "name": "date_sub",
         "type": "\"date\""
        },
        {
         "metadata": "{}",
         "name": "date_add",
         "type": "\"date\""
        },
        {
         "metadata": "{}",
         "name": "date_diff",
         "type": "\"integer\""
        },
        {
         "metadata": "{}",
         "name": "months_between",
         "type": "\"double\""
        },
        {
         "metadata": "{}",
         "name": "castWithFormat",
         "type": "\"date\""
        },
        {
         "metadata": "{}",
         "name": "timestamp",
         "type": "\"timestamp\""
        }
       ],
       "type": "table"
      }
     },
     "output_type": "display_data"
    }
   ],
   "source": [
    "display(\n",
    "    dateDF.selectExpr(\n",
    "        \"date_sub(today, 5) AS date_sub\",\n",
    "        \"date_add(today, 5) AS date_add\",\n",
    "        \"\"\"\n",
    "        date_diff(\n",
    "            date_add(today,5),\n",
    "            today\n",
    "        ) AS date_diff\n",
    "        \"\"\",\n",
    "        \"\"\"\n",
    "        months_between(\n",
    "            date_add(today,365),\n",
    "            today\n",
    "        ) AS months_between\n",
    "        \"\"\",\n",
    "        \"\"\"\n",
    "        to_date(\n",
    "            '2024-12-11',\n",
    "            'yyyy-MM-dd'\n",
    "        ) AS castWithFormat\n",
    "        \"\"\",\n",
    "        \"\"\"\n",
    "        to_timestamp(\n",
    "            '2024-12-11',\n",
    "            'yyyy-MM-dd'\n",
    "        ) AS timestamp\n",
    "        \"\"\"\n",
    "    )\n",
    ")"
   ]
  },
  {
   "cell_type": "code",
   "execution_count": 0,
   "metadata": {
    "application/vnd.databricks.v1+cell": {
     "cellMetadata": {
      "byteLimit": 2048000,
      "rowLimit": 10000
     },
     "inputWidgets": {},
     "nuid": "0622927c-3e0a-4167-83b0-b56984d1c04a",
     "showTitle": true,
     "tableResultSettingsMap": {},
     "title": "nulls"
    }
   },
   "outputs": [
    {
     "output_type": "display_data",
     "data": {
      "text/html": [
       "<style scoped>\n",
       "  .table-result-container {\n",
       "    max-height: 300px;\n",
       "    overflow: auto;\n",
       "  }\n",
       "  table, th, td {\n",
       "    border: 1px solid black;\n",
       "    border-collapse: collapse;\n",
       "  }\n",
       "  th, td {\n",
       "    padding: 5px;\n",
       "  }\n",
       "  th {\n",
       "    text-align: left;\n",
       "  }\n",
       "</style><div class='table-result-container'><table class='table-result'><thead style='background-color: white'><tr><th>nullCol</th><th>ifNull</th><th>nullIf</th><th>coalesce</th></tr></thead><tbody><tr><td>null</td><td>ShowStr</td><td>null</td><td>valor</td></tr></tbody></table></div>"
      ]
     },
     "metadata": {
      "application/vnd.databricks.v1+output": {
       "addedWidgets": {},
       "aggData": [],
       "aggError": "",
       "aggOverflow": false,
       "aggSchema": [],
       "aggSeriesLimitReached": false,
       "aggType": "",
       "arguments": {},
       "columnCustomDisplayInfos": {},
       "data": [
        [
         null,
         "ShowStr",
         null,
         "valor"
        ]
       ],
       "datasetInfos": [],
       "dbfsResultPath": null,
       "isJsonSchema": true,
       "metadata": {},
       "overflow": false,
       "plotOptions": {
        "customPlotOptions": {},
        "displayType": "table",
        "pivotAggregation": null,
        "pivotColumns": null,
        "xColumns": null,
        "yColumns": null
       },
       "removedWidgets": [],
       "schema": [
        {
         "metadata": "{}",
         "name": "nullCol",
         "type": "\"string\""
        },
        {
         "metadata": "{}",
         "name": "ifNull",
         "type": "\"string\""
        },
        {
         "metadata": "{}",
         "name": "nullIf",
         "type": "\"string\""
        },
        {
         "metadata": "{}",
         "name": "coalesce",
         "type": "\"string\""
        }
       ],
       "type": "table"
      }
     },
     "output_type": "display_data"
    }
   ],
   "source": [
    " display(\n",
    "        spark.sql(\n",
    "         \"\"\"\n",
    "            SELECT \n",
    "                CAST(null AS string)  AS nullCol,\n",
    "                ifnull(null,\"ShowStr\") AS ifNull,\n",
    "                nullif(\"1\",\"1\") AS nullIf,\n",
    "                coalesce(null,\"valor\") As coalesce\n",
    "        \"\"\"\n",
    "        ) \n",
    " )"
   ]
  },
  {
   "cell_type": "code",
   "execution_count": 0,
   "metadata": {
    "application/vnd.databricks.v1+cell": {
     "cellMetadata": {
      "byteLimit": 2048000,
      "rowLimit": 10000
     },
     "inputWidgets": {},
     "nuid": "3aa9344b-ef74-45df-b8c2-8d1aae1bb895",
     "showTitle": false,
     "tableResultSettingsMap": {},
     "title": ""
    }
   },
   "outputs": [
    {
     "output_type": "display_data",
     "data": {
      "text/html": [
       "<style scoped>\n",
       "  .table-result-container {\n",
       "    max-height: 300px;\n",
       "    overflow: auto;\n",
       "  }\n",
       "  table, th, td {\n",
       "    border: 1px solid black;\n",
       "    border-collapse: collapse;\n",
       "  }\n",
       "  th, td {\n",
       "    padding: 5px;\n",
       "  }\n",
       "  th {\n",
       "    text-align: left;\n",
       "  }\n",
       "</style><div class='table-result-container'><table class='table-result'><thead style='background-color: white'><tr><th>col1</th><th>col2</th><th>col3</th></tr></thead><tbody><tr><td>null</td><td>null</td><td>null</td></tr><tr><td>1</td><td>Cabreira</td><td>null</td></tr><tr><td>2</td><td>Joao</td><td>33</td></tr><tr><td>3</td><td>null</td><td>25</td></tr><tr><td>4</td><td></td><td></td></tr></tbody></table></div>"
      ]
     },
     "metadata": {
      "application/vnd.databricks.v1+output": {
       "addedWidgets": {},
       "aggData": [],
       "aggError": "",
       "aggOverflow": false,
       "aggSchema": [],
       "aggSeriesLimitReached": false,
       "aggType": "",
       "arguments": {},
       "columnCustomDisplayInfos": {},
       "data": [
        [
         null,
         null,
         null
        ],
        [
         "1",
         "Cabreira",
         null
        ],
        [
         "2",
         "Joao",
         "33"
        ],
        [
         "3",
         null,
         "25"
        ],
        [
         "4",
         "",
         ""
        ]
       ],
       "datasetInfos": [],
       "dbfsResultPath": null,
       "isJsonSchema": true,
       "metadata": {},
       "overflow": false,
       "plotOptions": {
        "customPlotOptions": {},
        "displayType": "table",
        "pivotAggregation": null,
        "pivotColumns": null,
        "xColumns": null,
        "yColumns": null
       },
       "removedWidgets": [],
       "schema": [
        {
         "metadata": "{}",
         "name": "col1",
         "type": "\"string\""
        },
        {
         "metadata": "{}",
         "name": "col2",
         "type": "\"string\""
        },
        {
         "metadata": "{}",
         "name": "col3",
         "type": "\"string\""
        }
       ],
       "type": "table"
      }
     },
     "output_type": "display_data"
    }
   ],
   "source": [
    "dfnull = spark.sql(\"\"\"\n",
    "    select \n",
    "        null AS col1,\n",
    "        null AS col2, \n",
    "        Null AS col3\n",
    "\n",
    "\n",
    "    union all\n",
    "\n",
    "    select \n",
    "        \"1\" as col1, \n",
    "        \"Cabreira\" as col2,\n",
    "        null AS col3\n",
    "\n",
    "    union all\n",
    "\n",
    "    select \n",
    "        \"2\" AS col1,\n",
    "        \"Joao\" AS col2, \n",
    "        \"33\" AS col3\n",
    "\n",
    "    union all\n",
    "\n",
    "    select  \n",
    "        \"3\" as col1, \n",
    "        null as col2, \n",
    "        \"25\" as col3\n",
    "\n",
    "    union all\n",
    "\n",
    "    select \n",
    "        \"4\" as col1,\n",
    "        \"\" as col2,\n",
    "        \"\" AS col3\n",
    "\n",
    "\n",
    "\"\"\")\n",
    "\n",
    "display(dfnull)"
   ]
  },
  {
   "cell_type": "code",
   "execution_count": 0,
   "metadata": {
    "application/vnd.databricks.v1+cell": {
     "cellMetadata": {
      "byteLimit": 2048000,
      "rowLimit": 10000
     },
     "inputWidgets": {},
     "nuid": "622871b4-3b37-434a-8f65-e9a35a288c03",
     "showTitle": true,
     "tableResultSettingsMap": {},
     "title": "na"
    }
   },
   "outputs": [
    {
     "output_type": "display_data",
     "data": {
      "text/html": [
       "<style scoped>\n",
       "  .table-result-container {\n",
       "    max-height: 300px;\n",
       "    overflow: auto;\n",
       "  }\n",
       "  table, th, td {\n",
       "    border: 1px solid black;\n",
       "    border-collapse: collapse;\n",
       "  }\n",
       "  th, td {\n",
       "    padding: 5px;\n",
       "  }\n",
       "  th {\n",
       "    text-align: left;\n",
       "  }\n",
       "</style><div class='table-result-container'><table class='table-result'><thead style='background-color: white'><tr><th>col1</th><th>col2</th><th>col3</th></tr></thead><tbody><tr><td>1</td><td>Cabreira</td><td>null</td></tr><tr><td>2</td><td>Joao</td><td>33</td></tr><tr><td>3</td><td>null</td><td>25</td></tr><tr><td>4</td><td></td><td></td></tr></tbody></table></div>"
      ]
     },
     "metadata": {
      "application/vnd.databricks.v1+output": {
       "addedWidgets": {},
       "aggData": [],
       "aggError": "",
       "aggOverflow": false,
       "aggSchema": [],
       "aggSeriesLimitReached": false,
       "aggType": "",
       "arguments": {},
       "columnCustomDisplayInfos": {},
       "data": [
        [
         "1",
         "Cabreira",
         null
        ],
        [
         "2",
         "Joao",
         "33"
        ],
        [
         "3",
         null,
         "25"
        ],
        [
         "4",
         "",
         ""
        ]
       ],
       "datasetInfos": [],
       "dbfsResultPath": null,
       "isJsonSchema": true,
       "metadata": {},
       "overflow": false,
       "plotOptions": {
        "customPlotOptions": {},
        "displayType": "table",
        "pivotAggregation": null,
        "pivotColumns": null,
        "xColumns": null,
        "yColumns": null
       },
       "removedWidgets": [],
       "schema": [
        {
         "metadata": "{}",
         "name": "col1",
         "type": "\"string\""
        },
        {
         "metadata": "{}",
         "name": "col2",
         "type": "\"string\""
        },
        {
         "metadata": "{}",
         "name": "col3",
         "type": "\"string\""
        }
       ],
       "type": "table"
      }
     },
     "output_type": "display_data"
    }
   ],
   "source": [
    "display(dfnull.na.drop('all'))"
   ]
  },
  {
   "cell_type": "code",
   "execution_count": 0,
   "metadata": {
    "application/vnd.databricks.v1+cell": {
     "cellMetadata": {
      "byteLimit": 2048000,
      "rowLimit": 10000
     },
     "inputWidgets": {},
     "nuid": "9c638ac2-6416-4175-a131-873546614213",
     "showTitle": true,
     "tableResultSettingsMap": {},
     "title": "na"
    }
   },
   "outputs": [
    {
     "output_type": "display_data",
     "data": {
      "text/html": [
       "<style scoped>\n",
       "  .table-result-container {\n",
       "    max-height: 300px;\n",
       "    overflow: auto;\n",
       "  }\n",
       "  table, th, td {\n",
       "    border: 1px solid black;\n",
       "    border-collapse: collapse;\n",
       "  }\n",
       "  th, td {\n",
       "    padding: 5px;\n",
       "  }\n",
       "  th {\n",
       "    text-align: left;\n",
       "  }\n",
       "</style><div class='table-result-container'><table class='table-result'><thead style='background-color: white'><tr><th>col1</th><th>col2</th><th>col3</th></tr></thead><tbody><tr><td>2</td><td>Joao</td><td>33</td></tr><tr><td>4</td><td></td><td></td></tr></tbody></table></div>"
      ]
     },
     "metadata": {
      "application/vnd.databricks.v1+output": {
       "addedWidgets": {},
       "aggData": [],
       "aggError": "",
       "aggOverflow": false,
       "aggSchema": [],
       "aggSeriesLimitReached": false,
       "aggType": "",
       "arguments": {},
       "columnCustomDisplayInfos": {},
       "data": [
        [
         "2",
         "Joao",
         "33"
        ],
        [
         "4",
         "",
         ""
        ]
       ],
       "datasetInfos": [],
       "dbfsResultPath": null,
       "isJsonSchema": true,
       "metadata": {},
       "overflow": false,
       "plotOptions": {
        "customPlotOptions": {},
        "displayType": "table",
        "pivotAggregation": null,
        "pivotColumns": null,
        "xColumns": null,
        "yColumns": null
       },
       "removedWidgets": [],
       "schema": [
        {
         "metadata": "{}",
         "name": "col1",
         "type": "\"string\""
        },
        {
         "metadata": "{}",
         "name": "col2",
         "type": "\"string\""
        },
        {
         "metadata": "{}",
         "name": "col3",
         "type": "\"string\""
        }
       ],
       "type": "table"
      }
     },
     "output_type": "display_data"
    }
   ],
   "source": [
    "display(dfnull.na.drop('any'))"
   ]
  },
  {
   "cell_type": "code",
   "execution_count": 0,
   "metadata": {
    "application/vnd.databricks.v1+cell": {
     "cellMetadata": {
      "byteLimit": 2048000,
      "rowLimit": 10000
     },
     "inputWidgets": {},
     "nuid": "bbb9ef8e-0c70-4cb6-88d1-67eba55ebb7b",
     "showTitle": true,
     "tableResultSettingsMap": {},
     "title": "na"
    }
   },
   "outputs": [
    {
     "output_type": "display_data",
     "data": {
      "text/html": [
       "<style scoped>\n",
       "  .table-result-container {\n",
       "    max-height: 300px;\n",
       "    overflow: auto;\n",
       "  }\n",
       "  table, th, td {\n",
       "    border: 1px solid black;\n",
       "    border-collapse: collapse;\n",
       "  }\n",
       "  th, td {\n",
       "    padding: 5px;\n",
       "  }\n",
       "  th {\n",
       "    text-align: left;\n",
       "  }\n",
       "</style><div class='table-result-container'><table class='table-result'><thead style='background-color: white'><tr><th>col1</th><th>col2</th><th>col3</th></tr></thead><tbody><tr><td>1</td><td>Cabreira</td><td>null</td></tr><tr><td>2</td><td>Joao</td><td>33</td></tr><tr><td>4</td><td></td><td></td></tr></tbody></table></div>"
      ]
     },
     "metadata": {
      "application/vnd.databricks.v1+output": {
       "addedWidgets": {},
       "aggData": [],
       "aggError": "",
       "aggOverflow": false,
       "aggSchema": [],
       "aggSeriesLimitReached": false,
       "aggType": "",
       "arguments": {},
       "columnCustomDisplayInfos": {},
       "data": [
        [
         "1",
         "Cabreira",
         null
        ],
        [
         "2",
         "Joao",
         "33"
        ],
        [
         "4",
         "",
         ""
        ]
       ],
       "datasetInfos": [],
       "dbfsResultPath": null,
       "isJsonSchema": true,
       "metadata": {},
       "overflow": false,
       "plotOptions": {
        "customPlotOptions": {},
        "displayType": "table",
        "pivotAggregation": null,
        "pivotColumns": null,
        "xColumns": null,
        "yColumns": null
       },
       "removedWidgets": [],
       "schema": [
        {
         "metadata": "{}",
         "name": "col1",
         "type": "\"string\""
        },
        {
         "metadata": "{}",
         "name": "col2",
         "type": "\"string\""
        },
        {
         "metadata": "{}",
         "name": "col3",
         "type": "\"string\""
        }
       ],
       "type": "table"
      }
     },
     "output_type": "display_data"
    }
   ],
   "source": [
    "display(\n",
    "    dfnull.na.drop(\n",
    "        'any',\n",
    "        subset= ['col1', 'col2'] ))"
   ]
  },
  {
   "cell_type": "code",
   "execution_count": 0,
   "metadata": {
    "application/vnd.databricks.v1+cell": {
     "cellMetadata": {
      "byteLimit": 2048000,
      "rowLimit": 10000
     },
     "inputWidgets": {},
     "nuid": "4a22413b-2328-4687-a22e-e422c9c82340",
     "showTitle": false,
     "tableResultSettingsMap": {},
     "title": ""
    }
   },
   "outputs": [
    {
     "output_type": "display_data",
     "data": {
      "text/html": [
       "<style scoped>\n",
       "  .table-result-container {\n",
       "    max-height: 300px;\n",
       "    overflow: auto;\n",
       "  }\n",
       "  table, th, td {\n",
       "    border: 1px solid black;\n",
       "    border-collapse: collapse;\n",
       "  }\n",
       "  th, td {\n",
       "    padding: 5px;\n",
       "  }\n",
       "  th {\n",
       "    text-align: left;\n",
       "  }\n",
       "</style><div class='table-result-container'><table class='table-result'><thead style='background-color: white'><tr><th>col1</th><th>col2</th><th>col3</th></tr></thead><tbody><tr><td>valor</td><td>valor</td><td>valor</td></tr><tr><td>1</td><td>Cabreira</td><td>valor</td></tr><tr><td>2</td><td>Joao</td><td>33</td></tr><tr><td>3</td><td>valor</td><td>25</td></tr><tr><td>4</td><td></td><td></td></tr></tbody></table></div>"
      ]
     },
     "metadata": {
      "application/vnd.databricks.v1+output": {
       "addedWidgets": {},
       "aggData": [],
       "aggError": "",
       "aggOverflow": false,
       "aggSchema": [],
       "aggSeriesLimitReached": false,
       "aggType": "",
       "arguments": {},
       "columnCustomDisplayInfos": {},
       "data": [
        [
         "valor",
         "valor",
         "valor"
        ],
        [
         "1",
         "Cabreira",
         "valor"
        ],
        [
         "2",
         "Joao",
         "33"
        ],
        [
         "3",
         "valor",
         "25"
        ],
        [
         "4",
         "",
         ""
        ]
       ],
       "datasetInfos": [],
       "dbfsResultPath": null,
       "isJsonSchema": true,
       "metadata": {},
       "overflow": false,
       "plotOptions": {
        "customPlotOptions": {},
        "displayType": "table",
        "pivotAggregation": null,
        "pivotColumns": null,
        "xColumns": null,
        "yColumns": null
       },
       "removedWidgets": [],
       "schema": [
        {
         "metadata": "{}",
         "name": "col1",
         "type": "\"string\""
        },
        {
         "metadata": "{}",
         "name": "col2",
         "type": "\"string\""
        },
        {
         "metadata": "{}",
         "name": "col3",
         "type": "\"string\""
        }
       ],
       "type": "table"
      }
     },
     "output_type": "display_data"
    }
   ],
   "source": [
    "display(dfnull.na.fill('valor'))"
   ]
  },
  {
   "cell_type": "code",
   "execution_count": 0,
   "metadata": {
    "application/vnd.databricks.v1+cell": {
     "cellMetadata": {
      "byteLimit": 2048000,
      "rowLimit": 10000
     },
     "inputWidgets": {},
     "nuid": "53ba2356-74b4-44ea-97a7-83639989ce43",
     "showTitle": false,
     "tableResultSettingsMap": {},
     "title": ""
    }
   },
   "outputs": [
    {
     "output_type": "display_data",
     "data": {
      "text/html": [
       "<style scoped>\n",
       "  .table-result-container {\n",
       "    max-height: 300px;\n",
       "    overflow: auto;\n",
       "  }\n",
       "  table, th, td {\n",
       "    border: 1px solid black;\n",
       "    border-collapse: collapse;\n",
       "  }\n",
       "  th, td {\n",
       "    padding: 5px;\n",
       "  }\n",
       "  th {\n",
       "    text-align: left;\n",
       "  }\n",
       "</style><div class='table-result-container'><table class='table-result'><thead style='background-color: white'><tr><th>col1</th><th>col2</th><th>col3</th></tr></thead><tbody><tr><td>null</td><td>null</td><td>null</td></tr><tr><td>1</td><td>Cabreira</td><td>null</td></tr><tr><td>2</td><td>Joao</td><td>33</td></tr><tr><td>3</td><td>null</td><td>25</td></tr><tr><td>4</td><td>blank</td><td>blank</td></tr></tbody></table></div>"
      ]
     },
     "metadata": {
      "application/vnd.databricks.v1+output": {
       "addedWidgets": {},
       "aggData": [],
       "aggError": "",
       "aggOverflow": false,
       "aggSchema": [],
       "aggSeriesLimitReached": false,
       "aggType": "",
       "arguments": {},
       "columnCustomDisplayInfos": {},
       "data": [
        [
         null,
         null,
         null
        ],
        [
         "1",
         "Cabreira",
         null
        ],
        [
         "2",
         "Joao",
         "33"
        ],
        [
         "3",
         null,
         "25"
        ],
        [
         "4",
         "blank",
         "blank"
        ]
       ],
       "datasetInfos": [],
       "dbfsResultPath": null,
       "isJsonSchema": true,
       "metadata": {},
       "overflow": false,
       "plotOptions": {
        "customPlotOptions": {},
        "displayType": "table",
        "pivotAggregation": null,
        "pivotColumns": null,
        "xColumns": null,
        "yColumns": null
       },
       "removedWidgets": [],
       "schema": [
        {
         "metadata": "{}",
         "name": "col1",
         "type": "\"string\""
        },
        {
         "metadata": "{}",
         "name": "col2",
         "type": "\"string\""
        },
        {
         "metadata": "{}",
         "name": "col3",
         "type": "\"string\""
        }
       ],
       "type": "table"
      }
     },
     "output_type": "display_data"
    }
   ],
   "source": [
    "display(dfnull.na.replace([\"\"], 'blank'))"
   ]
  },
  {
   "cell_type": "code",
   "execution_count": 0,
   "metadata": {
    "application/vnd.databricks.v1+cell": {
     "cellMetadata": {
      "byteLimit": 2048000,
      "rowLimit": 10000
     },
     "inputWidgets": {},
     "nuid": "773d2104-6c8d-4a26-a51c-1225339a7179",
     "showTitle": true,
     "tableResultSettingsMap": {},
     "title": "struct"
    }
   },
   "outputs": [
    {
     "output_type": "display_data",
     "data": {
      "text/html": [
       "<style scoped>\n",
       "  .table-result-container {\n",
       "    max-height: 300px;\n",
       "    overflow: auto;\n",
       "  }\n",
       "  table, th, td {\n",
       "    border: 1px solid black;\n",
       "    border-collapse: collapse;\n",
       "  }\n",
       "  th, td {\n",
       "    padding: 5px;\n",
       "  }\n",
       "  th {\n",
       "    text-align: left;\n",
       "  }\n",
       "</style><div class='table-result-container'><table class='table-result'><thead style='background-color: white'><tr><th>complex</th><th>InvoiceNo</th></tr></thead><tbody><tr><td>List(WHITE HANGING HEART T-LIGHT HOLDER, 536365)</td><td>536365</td></tr><tr><td>List(WHITE METAL LANTERN, 536365)</td><td>536365</td></tr><tr><td>List(CREAM CUPID HEARTS COAT HANGER, 536365)</td><td>536365</td></tr><tr><td>List(KNITTED UNION FLAG HOT WATER BOTTLE, 536365)</td><td>536365</td></tr><tr><td>List(RED WOOLLY HOTTIE WHITE HEART., 536365)</td><td>536365</td></tr><tr><td>List(SET 7 BABUSHKA NESTING BOXES, 536365)</td><td>536365</td></tr><tr><td>List(GLASS STAR FROSTED T-LIGHT HOLDER, 536365)</td><td>536365</td></tr><tr><td>List(HAND WARMER UNION JACK, 536366)</td><td>536366</td></tr><tr><td>List(HAND WARMER RED POLKA DOT, 536366)</td><td>536366</td></tr><tr><td>List(ASSORTED COLOUR BIRD ORNAMENT, 536367)</td><td>536367</td></tr></tbody></table></div>"
      ]
     },
     "metadata": {
      "application/vnd.databricks.v1+output": {
       "addedWidgets": {},
       "aggData": [],
       "aggError": "",
       "aggOverflow": false,
       "aggSchema": [],
       "aggSeriesLimitReached": false,
       "aggType": "",
       "arguments": {},
       "columnCustomDisplayInfos": {},
       "data": [
        [
         [
          "WHITE HANGING HEART T-LIGHT HOLDER",
          "536365"
         ],
         "536365"
        ],
        [
         [
          "WHITE METAL LANTERN",
          "536365"
         ],
         "536365"
        ],
        [
         [
          "CREAM CUPID HEARTS COAT HANGER",
          "536365"
         ],
         "536365"
        ],
        [
         [
          "KNITTED UNION FLAG HOT WATER BOTTLE",
          "536365"
         ],
         "536365"
        ],
        [
         [
          "RED WOOLLY HOTTIE WHITE HEART.",
          "536365"
         ],
         "536365"
        ],
        [
         [
          "SET 7 BABUSHKA NESTING BOXES",
          "536365"
         ],
         "536365"
        ],
        [
         [
          "GLASS STAR FROSTED T-LIGHT HOLDER",
          "536365"
         ],
         "536365"
        ],
        [
         [
          "HAND WARMER UNION JACK",
          "536366"
         ],
         "536366"
        ],
        [
         [
          "HAND WARMER RED POLKA DOT",
          "536366"
         ],
         "536366"
        ],
        [
         [
          "ASSORTED COLOUR BIRD ORNAMENT",
          "536367"
         ],
         "536367"
        ]
       ],
       "datasetInfos": [],
       "dbfsResultPath": null,
       "isJsonSchema": true,
       "metadata": {},
       "overflow": false,
       "plotOptions": {
        "customPlotOptions": {},
        "displayType": "table",
        "pivotAggregation": null,
        "pivotColumns": null,
        "xColumns": null,
        "yColumns": null
       },
       "removedWidgets": [],
       "schema": [
        {
         "metadata": "{}",
         "name": "complex",
         "type": "{\"type\":\"struct\",\"fields\":[{\"name\":\"Description\",\"type\":\"string\",\"nullable\":true,\"metadata\":{}},{\"name\":\"InvoiceNo\",\"type\":\"string\",\"nullable\":true,\"metadata\":{}}]}"
        },
        {
         "metadata": "{}",
         "name": "InvoiceNo",
         "type": "\"string\""
        }
       ],
       "type": "table"
      }
     },
     "output_type": "display_data"
    }
   ],
   "source": [
    "from pyspark.sql.functions import expr\n",
    "\n",
    "display(\n",
    "    df.withColumn(\n",
    "        \"complex\",\n",
    "        expr(\"\"\"\n",
    "            struct(\n",
    "                Description,\n",
    "                InvoiceNo\n",
    "\n",
    "            )\"\"\"\n",
    "        )\n",
    "    ).select(\n",
    "        'complex',\n",
    "        'complex.InvoiceNo'\n",
    "\n",
    "    ).limit(10)\n",
    ")"
   ]
  },
  {
   "cell_type": "code",
   "execution_count": 0,
   "metadata": {
    "application/vnd.databricks.v1+cell": {
     "cellMetadata": {
      "byteLimit": 2048000,
      "rowLimit": 10000
     },
     "inputWidgets": {},
     "nuid": "022145b8-7099-4f3d-b313-9a0a6b26eedf",
     "showTitle": true,
     "tableResultSettingsMap": {},
     "title": "array"
    }
   },
   "outputs": [
    {
     "output_type": "display_data",
     "data": {
      "text/html": [
       "<style scoped>\n",
       "  .table-result-container {\n",
       "    max-height: 300px;\n",
       "    overflow: auto;\n",
       "  }\n",
       "  table, th, td {\n",
       "    border: 1px solid black;\n",
       "    border-collapse: collapse;\n",
       "  }\n",
       "  th, td {\n",
       "    padding: 5px;\n",
       "  }\n",
       "  th {\n",
       "    text-align: left;\n",
       "  }\n",
       "</style><div class='table-result-container'><table class='table-result'><thead style='background-color: white'><tr><th>Description</th><th>arrayCol</th><th>arrayFirst</th><th>ArraySize</th><th>containsWhite</th></tr></thead><tbody><tr><td>WHITE HANGING HEART T-LIGHT HOLDER</td><td>List(WHITE, HANGING, HEART, T-LIGHT, HOLDER)</td><td>WHITE</td><td>5</td><td>true</td></tr><tr><td>WHITE METAL LANTERN</td><td>List(WHITE, METAL, LANTERN)</td><td>WHITE</td><td>3</td><td>true</td></tr><tr><td>CREAM CUPID HEARTS COAT HANGER</td><td>List(CREAM, CUPID, HEARTS, COAT, HANGER)</td><td>CREAM</td><td>5</td><td>false</td></tr><tr><td>KNITTED UNION FLAG HOT WATER BOTTLE</td><td>List(KNITTED, UNION, FLAG, HOT, WATER, BOTTLE)</td><td>KNITTED</td><td>6</td><td>false</td></tr><tr><td>RED WOOLLY HOTTIE WHITE HEART.</td><td>List(RED, WOOLLY, HOTTIE, WHITE, HEART.)</td><td>RED</td><td>5</td><td>true</td></tr><tr><td>SET 7 BABUSHKA NESTING BOXES</td><td>List(SET, 7, BABUSHKA, NESTING, BOXES)</td><td>SET</td><td>5</td><td>false</td></tr><tr><td>GLASS STAR FROSTED T-LIGHT HOLDER</td><td>List(GLASS, STAR, FROSTED, T-LIGHT, HOLDER)</td><td>GLASS</td><td>5</td><td>false</td></tr><tr><td>HAND WARMER UNION JACK</td><td>List(HAND, WARMER, UNION, JACK)</td><td>HAND</td><td>4</td><td>false</td></tr><tr><td>HAND WARMER RED POLKA DOT</td><td>List(HAND, WARMER, RED, POLKA, DOT)</td><td>HAND</td><td>5</td><td>false</td></tr><tr><td>ASSORTED COLOUR BIRD ORNAMENT</td><td>List(ASSORTED, COLOUR, BIRD, ORNAMENT)</td><td>ASSORTED</td><td>4</td><td>false</td></tr></tbody></table></div>"
      ]
     },
     "metadata": {
      "application/vnd.databricks.v1+output": {
       "addedWidgets": {},
       "aggData": [],
       "aggError": "",
       "aggOverflow": false,
       "aggSchema": [],
       "aggSeriesLimitReached": false,
       "aggType": "",
       "arguments": {},
       "columnCustomDisplayInfos": {},
       "data": [
        [
         "WHITE HANGING HEART T-LIGHT HOLDER",
         [
          "WHITE",
          "HANGING",
          "HEART",
          "T-LIGHT",
          "HOLDER"
         ],
         "WHITE",
         5,
         true
        ],
        [
         "WHITE METAL LANTERN",
         [
          "WHITE",
          "METAL",
          "LANTERN"
         ],
         "WHITE",
         3,
         true
        ],
        [
         "CREAM CUPID HEARTS COAT HANGER",
         [
          "CREAM",
          "CUPID",
          "HEARTS",
          "COAT",
          "HANGER"
         ],
         "CREAM",
         5,
         false
        ],
        [
         "KNITTED UNION FLAG HOT WATER BOTTLE",
         [
          "KNITTED",
          "UNION",
          "FLAG",
          "HOT",
          "WATER",
          "BOTTLE"
         ],
         "KNITTED",
         6,
         false
        ],
        [
         "RED WOOLLY HOTTIE WHITE HEART.",
         [
          "RED",
          "WOOLLY",
          "HOTTIE",
          "WHITE",
          "HEART."
         ],
         "RED",
         5,
         true
        ],
        [
         "SET 7 BABUSHKA NESTING BOXES",
         [
          "SET",
          "7",
          "BABUSHKA",
          "NESTING",
          "BOXES"
         ],
         "SET",
         5,
         false
        ],
        [
         "GLASS STAR FROSTED T-LIGHT HOLDER",
         [
          "GLASS",
          "STAR",
          "FROSTED",
          "T-LIGHT",
          "HOLDER"
         ],
         "GLASS",
         5,
         false
        ],
        [
         "HAND WARMER UNION JACK",
         [
          "HAND",
          "WARMER",
          "UNION",
          "JACK"
         ],
         "HAND",
         4,
         false
        ],
        [
         "HAND WARMER RED POLKA DOT",
         [
          "HAND",
          "WARMER",
          "RED",
          "POLKA",
          "DOT"
         ],
         "HAND",
         5,
         false
        ],
        [
         "ASSORTED COLOUR BIRD ORNAMENT",
         [
          "ASSORTED",
          "COLOUR",
          "BIRD",
          "ORNAMENT"
         ],
         "ASSORTED",
         4,
         false
        ]
       ],
       "datasetInfos": [],
       "dbfsResultPath": null,
       "isJsonSchema": true,
       "metadata": {},
       "overflow": false,
       "plotOptions": {
        "customPlotOptions": {},
        "displayType": "table",
        "pivotAggregation": null,
        "pivotColumns": null,
        "xColumns": null,
        "yColumns": null
       },
       "removedWidgets": [],
       "schema": [
        {
         "metadata": "{}",
         "name": "Description",
         "type": "\"string\""
        },
        {
         "metadata": "{}",
         "name": "arrayCol",
         "type": "{\"type\":\"array\",\"elementType\":\"string\",\"containsNull\":false}"
        },
        {
         "metadata": "{}",
         "name": "arrayFirst",
         "type": "\"string\""
        },
        {
         "metadata": "{}",
         "name": "ArraySize",
         "type": "\"integer\""
        },
        {
         "metadata": "{}",
         "name": "containsWhite",
         "type": "\"boolean\""
        }
       ],
       "type": "table"
      }
     },
     "output_type": "display_data"
    }
   ],
   "source": [
    "display(\n",
    "df.selectExpr(\n",
    "    'Description',\n",
    "    'split(Description, \" \") AS arrayCol',\n",
    "    'split(Description, \" \")[0] AS arrayFirst',\n",
    "    \"\"\"\n",
    "    size(\n",
    "        split(Description, \" \")\n",
    "        ) AS ArraySize\n",
    "    \"\"\",\n",
    "    \"\"\"\n",
    "    array_contains(\n",
    "        split(Description, \" \"),\n",
    "        'WHITE'\n",
    "    ) as containsWhite\n",
    "    \"\"\"\n",
    ").limit(10)\n",
    ")"
   ]
  },
  {
   "cell_type": "code",
   "execution_count": 0,
   "metadata": {
    "application/vnd.databricks.v1+cell": {
     "cellMetadata": {
      "byteLimit": 2048000,
      "rowLimit": 10000
     },
     "inputWidgets": {},
     "nuid": "d82c3d0f-d03a-4210-996b-2190cb50dbd1",
     "showTitle": true,
     "tableResultSettingsMap": {},
     "title": "array"
    }
   },
   "outputs": [
    {
     "output_type": "display_data",
     "data": {
      "text/html": [
       "<style scoped>\n",
       "  .table-result-container {\n",
       "    max-height: 300px;\n",
       "    overflow: auto;\n",
       "  }\n",
       "  table, th, td {\n",
       "    border: 1px solid black;\n",
       "    border-collapse: collapse;\n",
       "  }\n",
       "  th, td {\n",
       "    padding: 5px;\n",
       "  }\n",
       "  th {\n",
       "    text-align: left;\n",
       "  }\n",
       "</style><div class='table-result-container'><table class='table-result'><thead style='background-color: white'><tr><th>InvoiceNo</th><th>arrayCol</th><th>explodeCol</th></tr></thead><tbody><tr><td>536365</td><td>List(WHITE, HANGING, HEART, T-LIGHT, HOLDER)</td><td>WHITE</td></tr><tr><td>536365</td><td>List(WHITE, HANGING, HEART, T-LIGHT, HOLDER)</td><td>HANGING</td></tr><tr><td>536365</td><td>List(WHITE, HANGING, HEART, T-LIGHT, HOLDER)</td><td>HEART</td></tr><tr><td>536365</td><td>List(WHITE, HANGING, HEART, T-LIGHT, HOLDER)</td><td>T-LIGHT</td></tr><tr><td>536365</td><td>List(WHITE, HANGING, HEART, T-LIGHT, HOLDER)</td><td>HOLDER</td></tr></tbody></table></div>"
      ]
     },
     "metadata": {
      "application/vnd.databricks.v1+output": {
       "addedWidgets": {},
       "aggData": [],
       "aggError": "",
       "aggOverflow": false,
       "aggSchema": [],
       "aggSeriesLimitReached": false,
       "aggType": "",
       "arguments": {},
       "columnCustomDisplayInfos": {},
       "data": [
        [
         "536365",
         [
          "WHITE",
          "HANGING",
          "HEART",
          "T-LIGHT",
          "HOLDER"
         ],
         "WHITE"
        ],
        [
         "536365",
         [
          "WHITE",
          "HANGING",
          "HEART",
          "T-LIGHT",
          "HOLDER"
         ],
         "HANGING"
        ],
        [
         "536365",
         [
          "WHITE",
          "HANGING",
          "HEART",
          "T-LIGHT",
          "HOLDER"
         ],
         "HEART"
        ],
        [
         "536365",
         [
          "WHITE",
          "HANGING",
          "HEART",
          "T-LIGHT",
          "HOLDER"
         ],
         "T-LIGHT"
        ],
        [
         "536365",
         [
          "WHITE",
          "HANGING",
          "HEART",
          "T-LIGHT",
          "HOLDER"
         ],
         "HOLDER"
        ]
       ],
       "datasetInfos": [],
       "dbfsResultPath": null,
       "isJsonSchema": true,
       "metadata": {},
       "overflow": false,
       "plotOptions": {
        "customPlotOptions": {},
        "displayType": "table",
        "pivotAggregation": null,
        "pivotColumns": null,
        "xColumns": null,
        "yColumns": null
       },
       "removedWidgets": [],
       "schema": [
        {
         "metadata": "{}",
         "name": "InvoiceNo",
         "type": "\"string\""
        },
        {
         "metadata": "{}",
         "name": "arrayCol",
         "type": "{\"type\":\"array\",\"elementType\":\"string\",\"containsNull\":false}"
        },
        {
         "metadata": "{}",
         "name": "explodeCol",
         "type": "\"string\""
        }
       ],
       "type": "table"
      }
     },
     "output_type": "display_data"
    }
   ],
   "source": [
    "display(\n",
    "    df.limit(1)\n",
    "        .selectExpr(\n",
    "            'InvoiceNo',\n",
    "            'split(Description,\" \") as arrayCol',\n",
    "            \"\"\"\n",
    "            explode(\n",
    "                split(Description, \" \")\n",
    "            ) as explodeCol\n",
    "            \"\"\"\n",
    "\n",
    "        )\n",
    ")"
   ]
  },
  {
   "cell_type": "code",
   "execution_count": 0,
   "metadata": {
    "application/vnd.databricks.v1+cell": {
     "cellMetadata": {
      "byteLimit": 2048000,
      "rowLimit": 10000
     },
     "inputWidgets": {},
     "nuid": "f9642ce3-9dfd-4181-ab6e-e01753e62e5c",
     "showTitle": true,
     "tableResultSettingsMap": {},
     "title": "map"
    }
   },
   "outputs": [
    {
     "output_type": "display_data",
     "data": {
      "text/html": [
       "<style scoped>\n",
       "  .table-result-container {\n",
       "    max-height: 300px;\n",
       "    overflow: auto;\n",
       "  }\n",
       "  table, th, td {\n",
       "    border: 1px solid black;\n",
       "    border-collapse: collapse;\n",
       "  }\n",
       "  th, td {\n",
       "    padding: 5px;\n",
       "  }\n",
       "  th {\n",
       "    text-align: left;\n",
       "  }\n",
       "</style><div class='table-result-container'><table class='table-result'><thead style='background-color: white'><tr><th>mapCol</th></tr></thead><tbody><tr><td>Map(Description -> WHITE HANGING HEART T-LIGHT HOLDER, InvoiceNo -> 536365)</td></tr><tr><td>Map(Description -> WHITE METAL LANTERN, InvoiceNo -> 536365)</td></tr><tr><td>Map(Description -> CREAM CUPID HEARTS COAT HANGER, InvoiceNo -> 536365)</td></tr><tr><td>Map(Description -> KNITTED UNION FLAG HOT WATER BOTTLE, InvoiceNo -> 536365)</td></tr><tr><td>Map(Description -> RED WOOLLY HOTTIE WHITE HEART., InvoiceNo -> 536365)</td></tr><tr><td>Map(Description -> SET 7 BABUSHKA NESTING BOXES, InvoiceNo -> 536365)</td></tr><tr><td>Map(Description -> GLASS STAR FROSTED T-LIGHT HOLDER, InvoiceNo -> 536365)</td></tr><tr><td>Map(Description -> HAND WARMER UNION JACK, InvoiceNo -> 536366)</td></tr><tr><td>Map(Description -> HAND WARMER RED POLKA DOT, InvoiceNo -> 536366)</td></tr><tr><td>Map(Description -> ASSORTED COLOUR BIRD ORNAMENT, InvoiceNo -> 536367)</td></tr></tbody></table></div>"
      ]
     },
     "metadata": {
      "application/vnd.databricks.v1+output": {
       "addedWidgets": {},
       "aggData": [],
       "aggError": "",
       "aggOverflow": false,
       "aggSchema": [],
       "aggSeriesLimitReached": false,
       "aggType": "",
       "arguments": {},
       "columnCustomDisplayInfos": {},
       "data": [
        [
         {
          "Description": "WHITE HANGING HEART T-LIGHT HOLDER",
          "InvoiceNo": "536365"
         }
        ],
        [
         {
          "Description": "WHITE METAL LANTERN",
          "InvoiceNo": "536365"
         }
        ],
        [
         {
          "Description": "CREAM CUPID HEARTS COAT HANGER",
          "InvoiceNo": "536365"
         }
        ],
        [
         {
          "Description": "KNITTED UNION FLAG HOT WATER BOTTLE",
          "InvoiceNo": "536365"
         }
        ],
        [
         {
          "Description": "RED WOOLLY HOTTIE WHITE HEART.",
          "InvoiceNo": "536365"
         }
        ],
        [
         {
          "Description": "SET 7 BABUSHKA NESTING BOXES",
          "InvoiceNo": "536365"
         }
        ],
        [
         {
          "Description": "GLASS STAR FROSTED T-LIGHT HOLDER",
          "InvoiceNo": "536365"
         }
        ],
        [
         {
          "Description": "HAND WARMER UNION JACK",
          "InvoiceNo": "536366"
         }
        ],
        [
         {
          "Description": "HAND WARMER RED POLKA DOT",
          "InvoiceNo": "536366"
         }
        ],
        [
         {
          "Description": "ASSORTED COLOUR BIRD ORNAMENT",
          "InvoiceNo": "536367"
         }
        ]
       ],
       "datasetInfos": [],
       "dbfsResultPath": null,
       "isJsonSchema": true,
       "metadata": {},
       "overflow": false,
       "plotOptions": {
        "customPlotOptions": {},
        "displayType": "table",
        "pivotAggregation": null,
        "pivotColumns": null,
        "xColumns": null,
        "yColumns": null
       },
       "removedWidgets": [],
       "schema": [
        {
         "metadata": "{}",
         "name": "mapCol",
         "type": "{\"type\":\"map\",\"keyType\":\"string\",\"valueType\":\"string\",\"valueContainsNull\":true}"
        }
       ],
       "type": "table"
      }
     },
     "output_type": "display_data"
    }
   ],
   "source": [
    "display(\n",
    "    df.where('Description IS NOT NULL')\n",
    "        .selectExpr(\n",
    "            \"\"\"\n",
    "            map(\n",
    "                'Description', Description,\n",
    "                'InvoiceNo', InvoiceNo\n",
    "            ) as mapCol\n",
    "            \"\"\"\n",
    "        ).limit(10)\n",
    ")"
   ]
  },
  {
   "cell_type": "code",
   "execution_count": 0,
   "metadata": {
    "application/vnd.databricks.v1+cell": {
     "cellMetadata": {
      "byteLimit": 2048000,
      "rowLimit": 10000
     },
     "inputWidgets": {},
     "nuid": "3280ea34-8dd5-4922-b910-5a968699d22a",
     "showTitle": true,
     "tableResultSettingsMap": {},
     "title": "json"
    }
   },
   "outputs": [
    {
     "output_type": "display_data",
     "data": {
      "text/html": [
       "<style scoped>\n",
       "  .table-result-container {\n",
       "    max-height: 300px;\n",
       "    overflow: auto;\n",
       "  }\n",
       "  table, th, td {\n",
       "    border: 1px solid black;\n",
       "    border-collapse: collapse;\n",
       "  }\n",
       "  th, td {\n",
       "    padding: 5px;\n",
       "  }\n",
       "  th {\n",
       "    text-align: left;\n",
       "  }\n",
       "</style><div class='table-result-container'><table class='table-result'><thead style='background-color: white'><tr><th>structCol</th></tr></thead><tbody><tr><td>List(536365, WHITE HANGING HEART T-LIGHT HOLDER)</td></tr><tr><td>List(536365, WHITE METAL LANTERN)</td></tr><tr><td>List(536365, CREAM CUPID HEARTS COAT HANGER)</td></tr><tr><td>List(536365, KNITTED UNION FLAG HOT WATER BOTTLE)</td></tr><tr><td>List(536365, RED WOOLLY HOTTIE WHITE HEART.)</td></tr><tr><td>List(536365, SET 7 BABUSHKA NESTING BOXES)</td></tr><tr><td>List(536365, GLASS STAR FROSTED T-LIGHT HOLDER)</td></tr><tr><td>List(536366, HAND WARMER UNION JACK)</td></tr><tr><td>List(536366, HAND WARMER RED POLKA DOT)</td></tr><tr><td>List(536367, ASSORTED COLOUR BIRD ORNAMENT)</td></tr></tbody></table></div>"
      ]
     },
     "metadata": {
      "application/vnd.databricks.v1+output": {
       "addedWidgets": {},
       "aggData": [],
       "aggError": "",
       "aggOverflow": false,
       "aggSchema": [],
       "aggSeriesLimitReached": false,
       "aggType": "",
       "arguments": {},
       "columnCustomDisplayInfos": {},
       "data": [
        [
         [
          "536365",
          "WHITE HANGING HEART T-LIGHT HOLDER"
         ]
        ],
        [
         [
          "536365",
          "WHITE METAL LANTERN"
         ]
        ],
        [
         [
          "536365",
          "CREAM CUPID HEARTS COAT HANGER"
         ]
        ],
        [
         [
          "536365",
          "KNITTED UNION FLAG HOT WATER BOTTLE"
         ]
        ],
        [
         [
          "536365",
          "RED WOOLLY HOTTIE WHITE HEART."
         ]
        ],
        [
         [
          "536365",
          "SET 7 BABUSHKA NESTING BOXES"
         ]
        ],
        [
         [
          "536365",
          "GLASS STAR FROSTED T-LIGHT HOLDER"
         ]
        ],
        [
         [
          "536366",
          "HAND WARMER UNION JACK"
         ]
        ],
        [
         [
          "536366",
          "HAND WARMER RED POLKA DOT"
         ]
        ],
        [
         [
          "536367",
          "ASSORTED COLOUR BIRD ORNAMENT"
         ]
        ]
       ],
       "datasetInfos": [],
       "dbfsResultPath": null,
       "isJsonSchema": true,
       "metadata": {},
       "overflow": false,
       "plotOptions": {
        "customPlotOptions": {},
        "displayType": "table",
        "pivotAggregation": null,
        "pivotColumns": null,
        "xColumns": null,
        "yColumns": null
       },
       "removedWidgets": [],
       "schema": [
        {
         "metadata": "{}",
         "name": "structCol",
         "type": "{\"type\":\"struct\",\"fields\":[{\"name\":\"InvoiceNo\",\"type\":\"string\",\"nullable\":true,\"metadata\":{}},{\"name\":\"Description\",\"type\":\"string\",\"nullable\":true,\"metadata\":{}}]}"
        }
       ],
       "type": "table"
      }
     },
     "output_type": "display_data"
    }
   ],
   "source": [
    "from pyspark.sql.functions import to_json, from_json\n",
    "from pyspark.sql.types import * \n",
    "\n",
    "\n",
    "jsonDF = (\n",
    "    df.selectExpr(\n",
    "        \"(InvoiceNo, Description) AS structCol\"\n",
    "    ).limit(10)\n",
    ")\n",
    "\n",
    "display(jsonDF)"
   ]
  },
  {
   "cell_type": "code",
   "execution_count": 0,
   "metadata": {
    "application/vnd.databricks.v1+cell": {
     "cellMetadata": {
      "byteLimit": 2048000,
      "rowLimit": 10000
     },
     "inputWidgets": {},
     "nuid": "3ee6b253-6e48-4daa-93ae-fe7b8fcb97f1",
     "showTitle": true,
     "tableResultSettingsMap": {},
     "title": "json - convert to string"
    }
   },
   "outputs": [
    {
     "output_type": "display_data",
     "data": {
      "text/html": [
       "<style scoped>\n",
       "  .table-result-container {\n",
       "    max-height: 300px;\n",
       "    overflow: auto;\n",
       "  }\n",
       "  table, th, td {\n",
       "    border: 1px solid black;\n",
       "    border-collapse: collapse;\n",
       "  }\n",
       "  th, td {\n",
       "    padding: 5px;\n",
       "  }\n",
       "  th {\n",
       "    text-align: left;\n",
       "  }\n",
       "</style><div class='table-result-container'><table class='table-result'><thead style='background-color: white'><tr><th>structCol</th><th>stringCol</th></tr></thead><tbody><tr><td>List(536365, WHITE HANGING HEART T-LIGHT HOLDER)</td><td>{\"InvoiceNo\":\"536365\",\"Description\":\"WHITE HANGING HEART T-LIGHT HOLDER\"}</td></tr><tr><td>List(536365, WHITE METAL LANTERN)</td><td>{\"InvoiceNo\":\"536365\",\"Description\":\"WHITE METAL LANTERN\"}</td></tr><tr><td>List(536365, CREAM CUPID HEARTS COAT HANGER)</td><td>{\"InvoiceNo\":\"536365\",\"Description\":\"CREAM CUPID HEARTS COAT HANGER\"}</td></tr><tr><td>List(536365, KNITTED UNION FLAG HOT WATER BOTTLE)</td><td>{\"InvoiceNo\":\"536365\",\"Description\":\"KNITTED UNION FLAG HOT WATER BOTTLE\"}</td></tr><tr><td>List(536365, RED WOOLLY HOTTIE WHITE HEART.)</td><td>{\"InvoiceNo\":\"536365\",\"Description\":\"RED WOOLLY HOTTIE WHITE HEART.\"}</td></tr><tr><td>List(536365, SET 7 BABUSHKA NESTING BOXES)</td><td>{\"InvoiceNo\":\"536365\",\"Description\":\"SET 7 BABUSHKA NESTING BOXES\"}</td></tr><tr><td>List(536365, GLASS STAR FROSTED T-LIGHT HOLDER)</td><td>{\"InvoiceNo\":\"536365\",\"Description\":\"GLASS STAR FROSTED T-LIGHT HOLDER\"}</td></tr><tr><td>List(536366, HAND WARMER UNION JACK)</td><td>{\"InvoiceNo\":\"536366\",\"Description\":\"HAND WARMER UNION JACK\"}</td></tr><tr><td>List(536366, HAND WARMER RED POLKA DOT)</td><td>{\"InvoiceNo\":\"536366\",\"Description\":\"HAND WARMER RED POLKA DOT\"}</td></tr><tr><td>List(536367, ASSORTED COLOUR BIRD ORNAMENT)</td><td>{\"InvoiceNo\":\"536367\",\"Description\":\"ASSORTED COLOUR BIRD ORNAMENT\"}</td></tr></tbody></table></div>"
      ]
     },
     "metadata": {
      "application/vnd.databricks.v1+output": {
       "addedWidgets": {},
       "aggData": [],
       "aggError": "",
       "aggOverflow": false,
       "aggSchema": [],
       "aggSeriesLimitReached": false,
       "aggType": "",
       "arguments": {},
       "columnCustomDisplayInfos": {},
       "data": [
        [
         [
          "536365",
          "WHITE HANGING HEART T-LIGHT HOLDER"
         ],
         "{\"InvoiceNo\":\"536365\",\"Description\":\"WHITE HANGING HEART T-LIGHT HOLDER\"}"
        ],
        [
         [
          "536365",
          "WHITE METAL LANTERN"
         ],
         "{\"InvoiceNo\":\"536365\",\"Description\":\"WHITE METAL LANTERN\"}"
        ],
        [
         [
          "536365",
          "CREAM CUPID HEARTS COAT HANGER"
         ],
         "{\"InvoiceNo\":\"536365\",\"Description\":\"CREAM CUPID HEARTS COAT HANGER\"}"
        ],
        [
         [
          "536365",
          "KNITTED UNION FLAG HOT WATER BOTTLE"
         ],
         "{\"InvoiceNo\":\"536365\",\"Description\":\"KNITTED UNION FLAG HOT WATER BOTTLE\"}"
        ],
        [
         [
          "536365",
          "RED WOOLLY HOTTIE WHITE HEART."
         ],
         "{\"InvoiceNo\":\"536365\",\"Description\":\"RED WOOLLY HOTTIE WHITE HEART.\"}"
        ],
        [
         [
          "536365",
          "SET 7 BABUSHKA NESTING BOXES"
         ],
         "{\"InvoiceNo\":\"536365\",\"Description\":\"SET 7 BABUSHKA NESTING BOXES\"}"
        ],
        [
         [
          "536365",
          "GLASS STAR FROSTED T-LIGHT HOLDER"
         ],
         "{\"InvoiceNo\":\"536365\",\"Description\":\"GLASS STAR FROSTED T-LIGHT HOLDER\"}"
        ],
        [
         [
          "536366",
          "HAND WARMER UNION JACK"
         ],
         "{\"InvoiceNo\":\"536366\",\"Description\":\"HAND WARMER UNION JACK\"}"
        ],
        [
         [
          "536366",
          "HAND WARMER RED POLKA DOT"
         ],
         "{\"InvoiceNo\":\"536366\",\"Description\":\"HAND WARMER RED POLKA DOT\"}"
        ],
        [
         [
          "536367",
          "ASSORTED COLOUR BIRD ORNAMENT"
         ],
         "{\"InvoiceNo\":\"536367\",\"Description\":\"ASSORTED COLOUR BIRD ORNAMENT\"}"
        ]
       ],
       "datasetInfos": [],
       "dbfsResultPath": null,
       "isJsonSchema": true,
       "metadata": {},
       "overflow": false,
       "plotOptions": {
        "customPlotOptions": {},
        "displayType": "table",
        "pivotAggregation": null,
        "pivotColumns": null,
        "xColumns": null,
        "yColumns": null
       },
       "removedWidgets": [],
       "schema": [
        {
         "metadata": "{}",
         "name": "structCol",
         "type": "{\"type\":\"struct\",\"fields\":[{\"name\":\"InvoiceNo\",\"type\":\"string\",\"nullable\":true,\"metadata\":{}},{\"name\":\"Description\",\"type\":\"string\",\"nullable\":true,\"metadata\":{}}]}"
        },
        {
         "metadata": "{}",
         "name": "stringCol",
         "type": "\"string\""
        }
       ],
       "type": "table"
      }
     },
     "output_type": "display_data"
    }
   ],
   "source": [
    "\n",
    "\n",
    "jsonDF =  jsonDF.select(\n",
    "        \"structCol\",\n",
    "        to_json(col(\"structCol\")).alias('stringCol')\n",
    "\n",
    ")\n",
    "\n",
    "\n",
    "display(jsonDF)"
   ]
  },
  {
   "cell_type": "code",
   "execution_count": 0,
   "metadata": {
    "application/vnd.databricks.v1+cell": {
     "cellMetadata": {
      "byteLimit": 2048000,
      "rowLimit": 10000
     },
     "inputWidgets": {},
     "nuid": "57c9dad5-333f-4181-9d2d-9d927f5d70f0",
     "showTitle": true,
     "tableResultSettingsMap": {},
     "title": "string json to dict"
    }
   },
   "outputs": [
    {
     "output_type": "display_data",
     "data": {
      "text/html": [
       "<style scoped>\n",
       "  .table-result-container {\n",
       "    max-height: 300px;\n",
       "    overflow: auto;\n",
       "  }\n",
       "  table, th, td {\n",
       "    border: 1px solid black;\n",
       "    border-collapse: collapse;\n",
       "  }\n",
       "  th, td {\n",
       "    padding: 5px;\n",
       "  }\n",
       "  th {\n",
       "    text-align: left;\n",
       "  }\n",
       "</style><div class='table-result-container'><table class='table-result'><thead style='background-color: white'><tr><th>structCol</th><th>stringCol</th><th>newJson</th></tr></thead><tbody><tr><td>List(536365, WHITE HANGING HEART T-LIGHT HOLDER)</td><td>{\"InvoiceNo\":\"536365\",\"Description\":\"WHITE HANGING HEART T-LIGHT HOLDER\"}</td><td>List(536365, WHITE HANGING HEART T-LIGHT HOLDER)</td></tr><tr><td>List(536365, WHITE METAL LANTERN)</td><td>{\"InvoiceNo\":\"536365\",\"Description\":\"WHITE METAL LANTERN\"}</td><td>List(536365, WHITE METAL LANTERN)</td></tr><tr><td>List(536365, CREAM CUPID HEARTS COAT HANGER)</td><td>{\"InvoiceNo\":\"536365\",\"Description\":\"CREAM CUPID HEARTS COAT HANGER\"}</td><td>List(536365, CREAM CUPID HEARTS COAT HANGER)</td></tr><tr><td>List(536365, KNITTED UNION FLAG HOT WATER BOTTLE)</td><td>{\"InvoiceNo\":\"536365\",\"Description\":\"KNITTED UNION FLAG HOT WATER BOTTLE\"}</td><td>List(536365, KNITTED UNION FLAG HOT WATER BOTTLE)</td></tr><tr><td>List(536365, RED WOOLLY HOTTIE WHITE HEART.)</td><td>{\"InvoiceNo\":\"536365\",\"Description\":\"RED WOOLLY HOTTIE WHITE HEART.\"}</td><td>List(536365, RED WOOLLY HOTTIE WHITE HEART.)</td></tr><tr><td>List(536365, SET 7 BABUSHKA NESTING BOXES)</td><td>{\"InvoiceNo\":\"536365\",\"Description\":\"SET 7 BABUSHKA NESTING BOXES\"}</td><td>List(536365, SET 7 BABUSHKA NESTING BOXES)</td></tr><tr><td>List(536365, GLASS STAR FROSTED T-LIGHT HOLDER)</td><td>{\"InvoiceNo\":\"536365\",\"Description\":\"GLASS STAR FROSTED T-LIGHT HOLDER\"}</td><td>List(536365, GLASS STAR FROSTED T-LIGHT HOLDER)</td></tr><tr><td>List(536366, HAND WARMER UNION JACK)</td><td>{\"InvoiceNo\":\"536366\",\"Description\":\"HAND WARMER UNION JACK\"}</td><td>List(536366, HAND WARMER UNION JACK)</td></tr><tr><td>List(536366, HAND WARMER RED POLKA DOT)</td><td>{\"InvoiceNo\":\"536366\",\"Description\":\"HAND WARMER RED POLKA DOT\"}</td><td>List(536366, HAND WARMER RED POLKA DOT)</td></tr><tr><td>List(536367, ASSORTED COLOUR BIRD ORNAMENT)</td><td>{\"InvoiceNo\":\"536367\",\"Description\":\"ASSORTED COLOUR BIRD ORNAMENT\"}</td><td>List(536367, ASSORTED COLOUR BIRD ORNAMENT)</td></tr></tbody></table></div>"
      ]
     },
     "metadata": {
      "application/vnd.databricks.v1+output": {
       "addedWidgets": {},
       "aggData": [],
       "aggError": "",
       "aggOverflow": false,
       "aggSchema": [],
       "aggSeriesLimitReached": false,
       "aggType": "",
       "arguments": {},
       "columnCustomDisplayInfos": {},
       "data": [
        [
         [
          "536365",
          "WHITE HANGING HEART T-LIGHT HOLDER"
         ],
         "{\"InvoiceNo\":\"536365\",\"Description\":\"WHITE HANGING HEART T-LIGHT HOLDER\"}",
         [
          "536365",
          "WHITE HANGING HEART T-LIGHT HOLDER"
         ]
        ],
        [
         [
          "536365",
          "WHITE METAL LANTERN"
         ],
         "{\"InvoiceNo\":\"536365\",\"Description\":\"WHITE METAL LANTERN\"}",
         [
          "536365",
          "WHITE METAL LANTERN"
         ]
        ],
        [
         [
          "536365",
          "CREAM CUPID HEARTS COAT HANGER"
         ],
         "{\"InvoiceNo\":\"536365\",\"Description\":\"CREAM CUPID HEARTS COAT HANGER\"}",
         [
          "536365",
          "CREAM CUPID HEARTS COAT HANGER"
         ]
        ],
        [
         [
          "536365",
          "KNITTED UNION FLAG HOT WATER BOTTLE"
         ],
         "{\"InvoiceNo\":\"536365\",\"Description\":\"KNITTED UNION FLAG HOT WATER BOTTLE\"}",
         [
          "536365",
          "KNITTED UNION FLAG HOT WATER BOTTLE"
         ]
        ],
        [
         [
          "536365",
          "RED WOOLLY HOTTIE WHITE HEART."
         ],
         "{\"InvoiceNo\":\"536365\",\"Description\":\"RED WOOLLY HOTTIE WHITE HEART.\"}",
         [
          "536365",
          "RED WOOLLY HOTTIE WHITE HEART."
         ]
        ],
        [
         [
          "536365",
          "SET 7 BABUSHKA NESTING BOXES"
         ],
         "{\"InvoiceNo\":\"536365\",\"Description\":\"SET 7 BABUSHKA NESTING BOXES\"}",
         [
          "536365",
          "SET 7 BABUSHKA NESTING BOXES"
         ]
        ],
        [
         [
          "536365",
          "GLASS STAR FROSTED T-LIGHT HOLDER"
         ],
         "{\"InvoiceNo\":\"536365\",\"Description\":\"GLASS STAR FROSTED T-LIGHT HOLDER\"}",
         [
          "536365",
          "GLASS STAR FROSTED T-LIGHT HOLDER"
         ]
        ],
        [
         [
          "536366",
          "HAND WARMER UNION JACK"
         ],
         "{\"InvoiceNo\":\"536366\",\"Description\":\"HAND WARMER UNION JACK\"}",
         [
          "536366",
          "HAND WARMER UNION JACK"
         ]
        ],
        [
         [
          "536366",
          "HAND WARMER RED POLKA DOT"
         ],
         "{\"InvoiceNo\":\"536366\",\"Description\":\"HAND WARMER RED POLKA DOT\"}",
         [
          "536366",
          "HAND WARMER RED POLKA DOT"
         ]
        ],
        [
         [
          "536367",
          "ASSORTED COLOUR BIRD ORNAMENT"
         ],
         "{\"InvoiceNo\":\"536367\",\"Description\":\"ASSORTED COLOUR BIRD ORNAMENT\"}",
         [
          "536367",
          "ASSORTED COLOUR BIRD ORNAMENT"
         ]
        ]
       ],
       "datasetInfos": [],
       "dbfsResultPath": null,
       "isJsonSchema": true,
       "metadata": {},
       "overflow": false,
       "plotOptions": {
        "customPlotOptions": {},
        "displayType": "table",
        "pivotAggregation": null,
        "pivotColumns": null,
        "xColumns": null,
        "yColumns": null
       },
       "removedWidgets": [],
       "schema": [
        {
         "metadata": "{}",
         "name": "structCol",
         "type": "{\"type\":\"struct\",\"fields\":[{\"name\":\"InvoiceNo\",\"type\":\"string\",\"nullable\":true,\"metadata\":{}},{\"name\":\"Description\",\"type\":\"string\",\"nullable\":true,\"metadata\":{}}]}"
        },
        {
         "metadata": "{}",
         "name": "stringCol",
         "type": "\"string\""
        },
        {
         "metadata": "{}",
         "name": "newJson",
         "type": "{\"type\":\"struct\",\"fields\":[{\"name\":\"InvoiceNo\",\"type\":\"string\",\"nullable\":true,\"metadata\":{}},{\"name\":\"Description\",\"type\":\"string\",\"nullable\":true,\"metadata\":{}}]}"
        }
       ],
       "type": "table"
      }
     },
     "output_type": "display_data"
    }
   ],
   "source": [
    "schema = StructType([\n",
    "            StructField('InvoiceNo', StringType()),\n",
    "            StructField('Description', StringType())\n",
    "\n",
    "])\n",
    "\n",
    "display(\n",
    "    jsonDF.select(\n",
    "        \"structCol\",\n",
    "        \"stringCol\",\n",
    "        from_json(col(\"stringCol\"), schema).alias(\"newJson\")\n",
    "    )\n",
    ")"
   ]
  },
  {
   "cell_type": "code",
   "execution_count": 0,
   "metadata": {
    "application/vnd.databricks.v1+cell": {
     "cellMetadata": {
      "byteLimit": 2048000,
      "rowLimit": 10000
     },
     "inputWidgets": {},
     "nuid": "3b35079e-267b-487a-be2e-4e064c95714a",
     "showTitle": false,
     "tableResultSettingsMap": {},
     "title": ""
    }
   },
   "outputs": [
    {
     "output_type": "display_data",
     "data": {
      "text/html": [
       "<style scoped>\n",
       "  .table-result-container {\n",
       "    max-height: 300px;\n",
       "    overflow: auto;\n",
       "  }\n",
       "  table, th, td {\n",
       "    border: 1px solid black;\n",
       "    border-collapse: collapse;\n",
       "  }\n",
       "  th, td {\n",
       "    padding: 5px;\n",
       "  }\n",
       "  th {\n",
       "    text-align: left;\n",
       "  }\n",
       "</style><div class='table-result-container'><table class='table-result'><thead style='background-color: white'><tr><th>structCol</th><th>stringCol</th><th>newJson</th></tr></thead><tbody><tr><td>List(536365, WHITE HANGING HEART T-LIGHT HOLDER)</td><td>{\"InvoiceNo\":\"536365\",\"Description\":\"WHITE HANGING HEART T-LIGHT HOLDER\"}</td><td>List(WHITE HANGING HEART T-LIGHT HOLDER, 536365)</td></tr><tr><td>List(536365, WHITE METAL LANTERN)</td><td>{\"InvoiceNo\":\"536365\",\"Description\":\"WHITE METAL LANTERN\"}</td><td>List(WHITE METAL LANTERN, 536365)</td></tr><tr><td>List(536365, CREAM CUPID HEARTS COAT HANGER)</td><td>{\"InvoiceNo\":\"536365\",\"Description\":\"CREAM CUPID HEARTS COAT HANGER\"}</td><td>List(CREAM CUPID HEARTS COAT HANGER, 536365)</td></tr><tr><td>List(536365, KNITTED UNION FLAG HOT WATER BOTTLE)</td><td>{\"InvoiceNo\":\"536365\",\"Description\":\"KNITTED UNION FLAG HOT WATER BOTTLE\"}</td><td>List(KNITTED UNION FLAG HOT WATER BOTTLE, 536365)</td></tr><tr><td>List(536365, RED WOOLLY HOTTIE WHITE HEART.)</td><td>{\"InvoiceNo\":\"536365\",\"Description\":\"RED WOOLLY HOTTIE WHITE HEART.\"}</td><td>List(RED WOOLLY HOTTIE WHITE HEART., 536365)</td></tr><tr><td>List(536365, SET 7 BABUSHKA NESTING BOXES)</td><td>{\"InvoiceNo\":\"536365\",\"Description\":\"SET 7 BABUSHKA NESTING BOXES\"}</td><td>List(SET 7 BABUSHKA NESTING BOXES, 536365)</td></tr><tr><td>List(536365, GLASS STAR FROSTED T-LIGHT HOLDER)</td><td>{\"InvoiceNo\":\"536365\",\"Description\":\"GLASS STAR FROSTED T-LIGHT HOLDER\"}</td><td>List(GLASS STAR FROSTED T-LIGHT HOLDER, 536365)</td></tr><tr><td>List(536366, HAND WARMER UNION JACK)</td><td>{\"InvoiceNo\":\"536366\",\"Description\":\"HAND WARMER UNION JACK\"}</td><td>List(HAND WARMER UNION JACK, 536366)</td></tr><tr><td>List(536366, HAND WARMER RED POLKA DOT)</td><td>{\"InvoiceNo\":\"536366\",\"Description\":\"HAND WARMER RED POLKA DOT\"}</td><td>List(HAND WARMER RED POLKA DOT, 536366)</td></tr><tr><td>List(536367, ASSORTED COLOUR BIRD ORNAMENT)</td><td>{\"InvoiceNo\":\"536367\",\"Description\":\"ASSORTED COLOUR BIRD ORNAMENT\"}</td><td>List(ASSORTED COLOUR BIRD ORNAMENT, 536367)</td></tr></tbody></table></div>"
      ]
     },
     "metadata": {
      "application/vnd.databricks.v1+output": {
       "addedWidgets": {},
       "aggData": [],
       "aggError": "",
       "aggOverflow": false,
       "aggSchema": [],
       "aggSeriesLimitReached": false,
       "aggType": "",
       "arguments": {},
       "columnCustomDisplayInfos": {},
       "data": [
        [
         [
          "536365",
          "WHITE HANGING HEART T-LIGHT HOLDER"
         ],
         "{\"InvoiceNo\":\"536365\",\"Description\":\"WHITE HANGING HEART T-LIGHT HOLDER\"}",
         [
          "WHITE HANGING HEART T-LIGHT HOLDER",
          "536365"
         ]
        ],
        [
         [
          "536365",
          "WHITE METAL LANTERN"
         ],
         "{\"InvoiceNo\":\"536365\",\"Description\":\"WHITE METAL LANTERN\"}",
         [
          "WHITE METAL LANTERN",
          "536365"
         ]
        ],
        [
         [
          "536365",
          "CREAM CUPID HEARTS COAT HANGER"
         ],
         "{\"InvoiceNo\":\"536365\",\"Description\":\"CREAM CUPID HEARTS COAT HANGER\"}",
         [
          "CREAM CUPID HEARTS COAT HANGER",
          "536365"
         ]
        ],
        [
         [
          "536365",
          "KNITTED UNION FLAG HOT WATER BOTTLE"
         ],
         "{\"InvoiceNo\":\"536365\",\"Description\":\"KNITTED UNION FLAG HOT WATER BOTTLE\"}",
         [
          "KNITTED UNION FLAG HOT WATER BOTTLE",
          "536365"
         ]
        ],
        [
         [
          "536365",
          "RED WOOLLY HOTTIE WHITE HEART."
         ],
         "{\"InvoiceNo\":\"536365\",\"Description\":\"RED WOOLLY HOTTIE WHITE HEART.\"}",
         [
          "RED WOOLLY HOTTIE WHITE HEART.",
          "536365"
         ]
        ],
        [
         [
          "536365",
          "SET 7 BABUSHKA NESTING BOXES"
         ],
         "{\"InvoiceNo\":\"536365\",\"Description\":\"SET 7 BABUSHKA NESTING BOXES\"}",
         [
          "SET 7 BABUSHKA NESTING BOXES",
          "536365"
         ]
        ],
        [
         [
          "536365",
          "GLASS STAR FROSTED T-LIGHT HOLDER"
         ],
         "{\"InvoiceNo\":\"536365\",\"Description\":\"GLASS STAR FROSTED T-LIGHT HOLDER\"}",
         [
          "GLASS STAR FROSTED T-LIGHT HOLDER",
          "536365"
         ]
        ],
        [
         [
          "536366",
          "HAND WARMER UNION JACK"
         ],
         "{\"InvoiceNo\":\"536366\",\"Description\":\"HAND WARMER UNION JACK\"}",
         [
          "HAND WARMER UNION JACK",
          "536366"
         ]
        ],
        [
         [
          "536366",
          "HAND WARMER RED POLKA DOT"
         ],
         "{\"InvoiceNo\":\"536366\",\"Description\":\"HAND WARMER RED POLKA DOT\"}",
         [
          "HAND WARMER RED POLKA DOT",
          "536366"
         ]
        ],
        [
         [
          "536367",
          "ASSORTED COLOUR BIRD ORNAMENT"
         ],
         "{\"InvoiceNo\":\"536367\",\"Description\":\"ASSORTED COLOUR BIRD ORNAMENT\"}",
         [
          "ASSORTED COLOUR BIRD ORNAMENT",
          "536367"
         ]
        ]
       ],
       "datasetInfos": [],
       "dbfsResultPath": null,
       "isJsonSchema": true,
       "metadata": {},
       "overflow": false,
       "plotOptions": {
        "customPlotOptions": {},
        "displayType": "table",
        "pivotAggregation": null,
        "pivotColumns": null,
        "xColumns": null,
        "yColumns": null
       },
       "removedWidgets": [],
       "schema": [
        {
         "metadata": "{}",
         "name": "structCol",
         "type": "{\"type\":\"struct\",\"fields\":[{\"name\":\"InvoiceNo\",\"type\":\"string\",\"nullable\":true,\"metadata\":{}},{\"name\":\"Description\",\"type\":\"string\",\"nullable\":true,\"metadata\":{}}]}"
        },
        {
         "metadata": "{}",
         "name": "stringCol",
         "type": "\"string\""
        },
        {
         "metadata": "{}",
         "name": "newJson",
         "type": "{\"type\":\"struct\",\"fields\":[{\"name\":\"Description\",\"type\":\"string\",\"nullable\":true,\"metadata\":{}},{\"name\":\"InvoiceNo\",\"type\":\"string\",\"nullable\":true,\"metadata\":{}}]}"
        }
       ],
       "type": "table"
      }
     },
     "output_type": "display_data"
    }
   ],
   "source": [
    "# get schema on the fly - helps in case os schema evolution \n",
    "schemaOnTheFly = jsonDF.selectExpr(\"schema_of_json_agg(stringCol)\").collect()[0][0]\n",
    "\n",
    "display(\n",
    "    jsonDF.select(\n",
    "        \"structCol\",\n",
    "        \"stringCol\",\n",
    "        from_json(\n",
    "            col('stringCol'),\n",
    "            schemaOnTheFly\n",
    "        ).alias('newJson')\n",
    "))"
   ]
  },
  {
   "cell_type": "code",
   "execution_count": 0,
   "metadata": {
    "application/vnd.databricks.v1+cell": {
     "cellMetadata": {},
     "inputWidgets": {},
     "nuid": "e5a27cb3-3a14-4179-ac58-26d325139e90",
     "showTitle": false,
     "tableResultSettingsMap": {},
     "title": ""
    }
   },
   "outputs": [],
   "source": []
  }
 ],
 "metadata": {
  "application/vnd.databricks.v1+notebook": {
   "computePreferences": null,
   "dashboards": [],
   "environmentMetadata": {
    "base_environment": "",
    "client": "1"
   },
   "language": "python",
   "notebookMetadata": {
    "pythonIndentUnit": 4
   },
   "notebookName": "Spark_Data_Type",
   "widgets": {}
  }
 },
 "nbformat": 4,
 "nbformat_minor": 0
}
